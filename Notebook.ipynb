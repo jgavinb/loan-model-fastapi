{
 "cells": [
  {
   "cell_type": "code",
   "execution_count": 91,
   "metadata": {},
   "outputs": [],
   "source": [
    "import pandas as pd"
   ]
  },
  {
   "cell_type": "code",
   "execution_count": 92,
   "metadata": {},
   "outputs": [],
   "source": [
    "df = pd.read_csv(\"loan_data.csv\")"
   ]
  },
  {
   "cell_type": "code",
   "execution_count": 93,
   "metadata": {},
   "outputs": [
    {
     "data": {
      "application/vnd.microsoft.datawrangler.viewer.v0+json": {
       "columns": [
        {
         "name": "index",
         "rawType": "int64",
         "type": "integer"
        },
        {
         "name": "Loan_ID",
         "rawType": "object",
         "type": "string"
        },
        {
         "name": "Gender",
         "rawType": "object",
         "type": "string"
        },
        {
         "name": "Married",
         "rawType": "object",
         "type": "string"
        },
        {
         "name": "Dependents",
         "rawType": "object",
         "type": "string"
        },
        {
         "name": "Education",
         "rawType": "object",
         "type": "string"
        },
        {
         "name": "Self_Employed",
         "rawType": "object",
         "type": "string"
        },
        {
         "name": "ApplicantIncome",
         "rawType": "int64",
         "type": "integer"
        },
        {
         "name": "CoapplicantIncome",
         "rawType": "float64",
         "type": "float"
        },
        {
         "name": "LoanAmount",
         "rawType": "float64",
         "type": "float"
        },
        {
         "name": "Loan_Amount_Term",
         "rawType": "float64",
         "type": "float"
        },
        {
         "name": "Credit_History",
         "rawType": "float64",
         "type": "float"
        },
        {
         "name": "Property_Area",
         "rawType": "object",
         "type": "string"
        },
        {
         "name": "Loan_Status",
         "rawType": "object",
         "type": "string"
        }
       ],
       "conversionMethod": "pd.DataFrame",
       "ref": "2654640e-5a07-48ec-850c-a624c3a3986a",
       "rows": [
        [
         "0",
         "LP001003",
         "Male",
         "Yes",
         "1",
         "Graduate",
         "No",
         "4583",
         "1508.0",
         "128.0",
         "360.0",
         "1.0",
         "Rural",
         "N"
        ],
        [
         "1",
         "LP001005",
         "Male",
         "Yes",
         "0",
         "Graduate",
         "Yes",
         "3000",
         "0.0",
         "66.0",
         "360.0",
         "1.0",
         "Urban",
         "Y"
        ],
        [
         "2",
         "LP001006",
         "Male",
         "Yes",
         "0",
         "Not Graduate",
         "No",
         "2583",
         "2358.0",
         "120.0",
         "360.0",
         "1.0",
         "Urban",
         "Y"
        ],
        [
         "3",
         "LP001008",
         "Male",
         "No",
         "0",
         "Graduate",
         "No",
         "6000",
         "0.0",
         "141.0",
         "360.0",
         "1.0",
         "Urban",
         "Y"
        ],
        [
         "4",
         "LP001013",
         "Male",
         "Yes",
         "0",
         "Not Graduate",
         "No",
         "2333",
         "1516.0",
         "95.0",
         "360.0",
         "1.0",
         "Urban",
         "Y"
        ]
       ],
       "shape": {
        "columns": 13,
        "rows": 5
       }
      },
      "text/html": [
       "<div>\n",
       "<style scoped>\n",
       "    .dataframe tbody tr th:only-of-type {\n",
       "        vertical-align: middle;\n",
       "    }\n",
       "\n",
       "    .dataframe tbody tr th {\n",
       "        vertical-align: top;\n",
       "    }\n",
       "\n",
       "    .dataframe thead th {\n",
       "        text-align: right;\n",
       "    }\n",
       "</style>\n",
       "<table border=\"1\" class=\"dataframe\">\n",
       "  <thead>\n",
       "    <tr style=\"text-align: right;\">\n",
       "      <th></th>\n",
       "      <th>Loan_ID</th>\n",
       "      <th>Gender</th>\n",
       "      <th>Married</th>\n",
       "      <th>Dependents</th>\n",
       "      <th>Education</th>\n",
       "      <th>Self_Employed</th>\n",
       "      <th>ApplicantIncome</th>\n",
       "      <th>CoapplicantIncome</th>\n",
       "      <th>LoanAmount</th>\n",
       "      <th>Loan_Amount_Term</th>\n",
       "      <th>Credit_History</th>\n",
       "      <th>Property_Area</th>\n",
       "      <th>Loan_Status</th>\n",
       "    </tr>\n",
       "  </thead>\n",
       "  <tbody>\n",
       "    <tr>\n",
       "      <th>0</th>\n",
       "      <td>LP001003</td>\n",
       "      <td>Male</td>\n",
       "      <td>Yes</td>\n",
       "      <td>1</td>\n",
       "      <td>Graduate</td>\n",
       "      <td>No</td>\n",
       "      <td>4583</td>\n",
       "      <td>1508.0</td>\n",
       "      <td>128.0</td>\n",
       "      <td>360.0</td>\n",
       "      <td>1.0</td>\n",
       "      <td>Rural</td>\n",
       "      <td>N</td>\n",
       "    </tr>\n",
       "    <tr>\n",
       "      <th>1</th>\n",
       "      <td>LP001005</td>\n",
       "      <td>Male</td>\n",
       "      <td>Yes</td>\n",
       "      <td>0</td>\n",
       "      <td>Graduate</td>\n",
       "      <td>Yes</td>\n",
       "      <td>3000</td>\n",
       "      <td>0.0</td>\n",
       "      <td>66.0</td>\n",
       "      <td>360.0</td>\n",
       "      <td>1.0</td>\n",
       "      <td>Urban</td>\n",
       "      <td>Y</td>\n",
       "    </tr>\n",
       "    <tr>\n",
       "      <th>2</th>\n",
       "      <td>LP001006</td>\n",
       "      <td>Male</td>\n",
       "      <td>Yes</td>\n",
       "      <td>0</td>\n",
       "      <td>Not Graduate</td>\n",
       "      <td>No</td>\n",
       "      <td>2583</td>\n",
       "      <td>2358.0</td>\n",
       "      <td>120.0</td>\n",
       "      <td>360.0</td>\n",
       "      <td>1.0</td>\n",
       "      <td>Urban</td>\n",
       "      <td>Y</td>\n",
       "    </tr>\n",
       "    <tr>\n",
       "      <th>3</th>\n",
       "      <td>LP001008</td>\n",
       "      <td>Male</td>\n",
       "      <td>No</td>\n",
       "      <td>0</td>\n",
       "      <td>Graduate</td>\n",
       "      <td>No</td>\n",
       "      <td>6000</td>\n",
       "      <td>0.0</td>\n",
       "      <td>141.0</td>\n",
       "      <td>360.0</td>\n",
       "      <td>1.0</td>\n",
       "      <td>Urban</td>\n",
       "      <td>Y</td>\n",
       "    </tr>\n",
       "    <tr>\n",
       "      <th>4</th>\n",
       "      <td>LP001013</td>\n",
       "      <td>Male</td>\n",
       "      <td>Yes</td>\n",
       "      <td>0</td>\n",
       "      <td>Not Graduate</td>\n",
       "      <td>No</td>\n",
       "      <td>2333</td>\n",
       "      <td>1516.0</td>\n",
       "      <td>95.0</td>\n",
       "      <td>360.0</td>\n",
       "      <td>1.0</td>\n",
       "      <td>Urban</td>\n",
       "      <td>Y</td>\n",
       "    </tr>\n",
       "  </tbody>\n",
       "</table>\n",
       "</div>"
      ],
      "text/plain": [
       "    Loan_ID Gender Married Dependents     Education Self_Employed  \\\n",
       "0  LP001003   Male     Yes          1      Graduate            No   \n",
       "1  LP001005   Male     Yes          0      Graduate           Yes   \n",
       "2  LP001006   Male     Yes          0  Not Graduate            No   \n",
       "3  LP001008   Male      No          0      Graduate            No   \n",
       "4  LP001013   Male     Yes          0  Not Graduate            No   \n",
       "\n",
       "   ApplicantIncome  CoapplicantIncome  LoanAmount  Loan_Amount_Term  \\\n",
       "0             4583             1508.0       128.0             360.0   \n",
       "1             3000                0.0        66.0             360.0   \n",
       "2             2583             2358.0       120.0             360.0   \n",
       "3             6000                0.0       141.0             360.0   \n",
       "4             2333             1516.0        95.0             360.0   \n",
       "\n",
       "   Credit_History Property_Area Loan_Status  \n",
       "0             1.0         Rural           N  \n",
       "1             1.0         Urban           Y  \n",
       "2             1.0         Urban           Y  \n",
       "3             1.0         Urban           Y  \n",
       "4             1.0         Urban           Y  "
      ]
     },
     "execution_count": 93,
     "metadata": {},
     "output_type": "execute_result"
    }
   ],
   "source": [
    "df.head()"
   ]
  },
  {
   "cell_type": "code",
   "execution_count": 94,
   "metadata": {},
   "outputs": [
    {
     "name": "stdout",
     "output_type": "stream",
     "text": [
      "<class 'pandas.core.frame.DataFrame'>\n",
      "RangeIndex: 381 entries, 0 to 380\n",
      "Data columns (total 13 columns):\n",
      " #   Column             Non-Null Count  Dtype  \n",
      "---  ------             --------------  -----  \n",
      " 0   Loan_ID            381 non-null    object \n",
      " 1   Gender             376 non-null    object \n",
      " 2   Married            381 non-null    object \n",
      " 3   Dependents         373 non-null    object \n",
      " 4   Education          381 non-null    object \n",
      " 5   Self_Employed      360 non-null    object \n",
      " 6   ApplicantIncome    381 non-null    int64  \n",
      " 7   CoapplicantIncome  381 non-null    float64\n",
      " 8   LoanAmount         381 non-null    float64\n",
      " 9   Loan_Amount_Term   370 non-null    float64\n",
      " 10  Credit_History     351 non-null    float64\n",
      " 11  Property_Area      381 non-null    object \n",
      " 12  Loan_Status        381 non-null    object \n",
      "dtypes: float64(4), int64(1), object(8)\n",
      "memory usage: 38.8+ KB\n"
     ]
    }
   ],
   "source": [
    "df.info()"
   ]
  },
  {
   "cell_type": "code",
   "execution_count": 95,
   "metadata": {},
   "outputs": [
    {
     "data": {
      "text/plain": [
       "Loan_ID               0\n",
       "Gender                5\n",
       "Married               0\n",
       "Dependents            8\n",
       "Education             0\n",
       "Self_Employed        21\n",
       "ApplicantIncome       0\n",
       "CoapplicantIncome     0\n",
       "LoanAmount            0\n",
       "Loan_Amount_Term     11\n",
       "Credit_History       30\n",
       "Property_Area         0\n",
       "Loan_Status           0\n",
       "dtype: int64"
      ]
     },
     "execution_count": 95,
     "metadata": {},
     "output_type": "execute_result"
    }
   ],
   "source": [
    "df.isnull().sum()"
   ]
  },
  {
   "cell_type": "code",
   "execution_count": 96,
   "metadata": {},
   "outputs": [
    {
     "data": {
      "text/plain": [
       "Loan_ID              0\n",
       "Gender               0\n",
       "Married              0\n",
       "Dependents           0\n",
       "Education            0\n",
       "Self_Employed        0\n",
       "ApplicantIncome      0\n",
       "CoapplicantIncome    0\n",
       "LoanAmount           0\n",
       "Loan_Amount_Term     0\n",
       "Credit_History       0\n",
       "Property_Area        0\n",
       "Loan_Status          0\n",
       "dtype: int64"
      ]
     },
     "execution_count": 96,
     "metadata": {},
     "output_type": "execute_result"
    }
   ],
   "source": [
    "df.dropna(inplace=True)\n",
    "df.isnull().sum()"
   ]
  },
  {
   "cell_type": "code",
   "execution_count": 97,
   "metadata": {},
   "outputs": [
    {
     "data": {
      "text/plain": [
       "0"
      ]
     },
     "execution_count": 97,
     "metadata": {},
     "output_type": "execute_result"
    }
   ],
   "source": [
    "df.duplicated().sum()"
   ]
  },
  {
   "cell_type": "code",
   "execution_count": 98,
   "metadata": {},
   "outputs": [
    {
     "data": {
      "text/plain": [
       "Index(['Loan_ID', 'Gender', 'Married', 'Dependents', 'Education',\n",
       "       'Self_Employed', 'ApplicantIncome', 'CoapplicantIncome', 'LoanAmount',\n",
       "       'Loan_Amount_Term', 'Credit_History', 'Property_Area', 'Loan_Status'],\n",
       "      dtype='object')"
      ]
     },
     "execution_count": 98,
     "metadata": {},
     "output_type": "execute_result"
    }
   ],
   "source": [
    "df.columns"
   ]
  },
  {
   "cell_type": "code",
   "execution_count": 99,
   "metadata": {},
   "outputs": [
    {
     "data": {
      "image/png": "[encoded data removed]",
      "text/plain": [
       "<Figure size 640x480 with 1 Axes>"
      ]
     },
     "metadata": {},
     "output_type": "display_data"
    }
   ],
   "source": [
    "import seaborn as sns\n",
    "import matplotlib.pyplot as plt\n",
    "sns.histplot(df[\"ApplicantIncome\"], kde=True)\n",
    "plt.title(\"Histogram of Applicant Income\")\n",
    "plt.xlabel(\"Applicant Income\")\n",
    "plt.ylabel(\"Frequency\")\n",
    "plt.show()"
   ]
  },
  {
   "cell_type": "code",
   "execution_count": 100,
   "metadata": {},
   "outputs": [
    {
     "data": {
      "text/plain": [
       "Index(['Loan_ID', 'Gender', 'Married', 'Dependents', 'Education',\n",
       "       'Self_Employed', 'ApplicantIncome', 'CoapplicantIncome', 'LoanAmount',\n",
       "       'Loan_Amount_Term', 'Credit_History', 'Property_Area', 'Loan_Status'],\n",
       "      dtype='object')"
      ]
     },
     "execution_count": 100,
     "metadata": {},
     "output_type": "execute_result"
    }
   ],
   "source": [
    "df.columns"
   ]
  },
  {
   "cell_type": "code",
   "execution_count": 101,
   "metadata": {},
   "outputs": [
    {
     "data": {
      "image/png": "[encoded data removed]",
      "text/plain": [
       "<Figure size 640x480 with 1 Axes>"
      ]
     },
     "metadata": {},
     "output_type": "display_data"
    }
   ],
   "source": [
    "sns.countplot(x=\"Loan_Status\", data=df)\n",
    "plt.title(\"Loan Status\")\n",
    "plt.xlabel(\"Loan Approved\")\n",
    "plt.ylabel(\"Count\")\n",
    "plt.show()"
   ]
  },
  {
   "cell_type": "markdown",
   "metadata": {},
   "source": [
    "Will need to oversample due to class imbalance in sample."
   ]
  },
  {
   "cell_type": "code",
   "execution_count": 102,
   "metadata": {},
   "outputs": [
    {
     "data": {
      "application/vnd.microsoft.datawrangler.viewer.v0+json": {
       "columns": [
        {
         "name": "index",
         "rawType": "int64",
         "type": "integer"
        },
        {
         "name": "Education",
         "rawType": "object",
         "type": "string"
        },
        {
         "name": "LoanAmount",
         "rawType": "float64",
         "type": "float"
        }
       ],
       "conversionMethod": "pd.DataFrame",
       "ref": "a6ac31e5-75a3-4ab1-83a0-0b51bcd2ebb4",
       "rows": [
        [
         "0",
         "Graduate",
         "105.34497816593887"
        ],
        [
         "1",
         "Not Graduate",
         "102.53164556962025"
        ]
       ],
       "shape": {
        "columns": 2,
        "rows": 2
       }
      },
      "text/html": [
       "<div>\n",
       "<style scoped>\n",
       "    .dataframe tbody tr th:only-of-type {\n",
       "        vertical-align: middle;\n",
       "    }\n",
       "\n",
       "    .dataframe tbody tr th {\n",
       "        vertical-align: top;\n",
       "    }\n",
       "\n",
       "    .dataframe thead th {\n",
       "        text-align: right;\n",
       "    }\n",
       "</style>\n",
       "<table border=\"1\" class=\"dataframe\">\n",
       "  <thead>\n",
       "    <tr style=\"text-align: right;\">\n",
       "      <th></th>\n",
       "      <th>Education</th>\n",
       "      <th>LoanAmount</th>\n",
       "    </tr>\n",
       "  </thead>\n",
       "  <tbody>\n",
       "    <tr>\n",
       "      <th>0</th>\n",
       "      <td>Graduate</td>\n",
       "      <td>105.344978</td>\n",
       "    </tr>\n",
       "    <tr>\n",
       "      <th>1</th>\n",
       "      <td>Not Graduate</td>\n",
       "      <td>102.531646</td>\n",
       "    </tr>\n",
       "  </tbody>\n",
       "</table>\n",
       "</div>"
      ],
      "text/plain": [
       "      Education  LoanAmount\n",
       "0      Graduate  105.344978\n",
       "1  Not Graduate  102.531646"
      ]
     },
     "execution_count": 102,
     "metadata": {},
     "output_type": "execute_result"
    }
   ],
   "source": [
    "avg_loan_amount_by_education = df.groupby(\"Education\")[\"LoanAmount\"].mean().reset_index()\n",
    "avg_loan_amount_by_education"
   ]
  },
  {
   "cell_type": "code",
   "execution_count": 103,
   "metadata": {},
   "outputs": [
    {
     "data": {
      "image/png": "[encoded data removed]",
      "text/plain": [
       "<Figure size 640x480 with 1 Axes>"
      ]
     },
     "metadata": {},
     "output_type": "display_data"
    }
   ],
   "source": [
    "sns.barplot(x=\"Education\", y=\"LoanAmount\", data=avg_loan_amount_by_education)\n",
    "plt.title(\"Average Loan Amount by Education\")\n",
    "plt.xlabel(\"Education\")\n",
    "plt.ylabel(\"Average Loan Amount\")\n",
    "plt.show()"
   ]
  },
  {
   "cell_type": "code",
   "execution_count": 104,
   "metadata": {},
   "outputs": [
    {
     "data": {
      "text/plain": [
       "Index(['Loan_ID', 'Gender', 'Married', 'Dependents', 'Education',\n",
       "       'Self_Employed', 'ApplicantIncome', 'CoapplicantIncome', 'LoanAmount',\n",
       "       'Loan_Amount_Term', 'Credit_History', 'Property_Area', 'Loan_Status'],\n",
       "      dtype='object')"
      ]
     },
     "execution_count": 104,
     "metadata": {},
     "output_type": "execute_result"
    }
   ],
   "source": [
    "df.columns"
   ]
  },
  {
   "cell_type": "code",
   "execution_count": 105,
   "metadata": {},
   "outputs": [
    {
     "data": {
      "image/png": "[encoded data removed]",
      "text/plain": [
       "<Figure size 640x480 with 1 Axes>"
      ]
     },
     "metadata": {},
     "output_type": "display_data"
    }
   ],
   "source": [
    "sns.boxplot(x=\"Property_Area\", y=\"LoanAmount\", data=df)\n",
    "plt.title(\"Loan Amount Distribution by Property Area\")\n",
    "plt.xlabel(\"Property Area\")\n",
    "plt.ylabel(\"Loan Amount\")\n",
    "plt.show()"
   ]
  },
  {
   "cell_type": "code",
   "execution_count": 106,
   "metadata": {},
   "outputs": [
    {
     "data": {
      "text/plain": [
       "Index(['Loan_ID', 'Gender', 'Married', 'Dependents', 'Education',\n",
       "       'Self_Employed', 'ApplicantIncome', 'CoapplicantIncome', 'LoanAmount',\n",
       "       'Loan_Amount_Term', 'Credit_History', 'Property_Area', 'Loan_Status'],\n",
       "      dtype='object')"
      ]
     },
     "execution_count": 106,
     "metadata": {},
     "output_type": "execute_result"
    }
   ],
   "source": [
    "df.columns"
   ]
  },
  {
   "cell_type": "code",
   "execution_count": 107,
   "metadata": {},
   "outputs": [
    {
     "data": {
      "image/png": "[encoded data removed]",
      "text/plain": [
       "<Figure size 640x480 with 1 Axes>"
      ]
     },
     "metadata": {},
     "output_type": "display_data"
    }
   ],
   "source": [
    "sns.countplot(x=\"Loan_Status\", hue=\"Gender\", data=df)\n",
    "plt.title(\"Loan Status by Gender\")\n",
    "plt.xlabel(\"Loan Approved\")\n",
    "plt.ylabel(\"Count\")\n",
    "plt.show()"
   ]
  },
  {
   "cell_type": "code",
   "execution_count": 108,
   "metadata": {},
   "outputs": [
    {
     "data": {
      "image/png": "[encoded data removed]",
      "text/plain": [
       "<Figure size 640x480 with 1 Axes>"
      ]
     },
     "metadata": {},
     "output_type": "display_data"
    }
   ],
   "source": [
    "df[\"Gender\"].value_counts().plot(kind=\"pie\")\n",
    "plt.ylabel(\"\")\n",
    "plt.show()"
   ]
  },
  {
   "cell_type": "code",
   "execution_count": 109,
   "metadata": {},
   "outputs": [],
   "source": [
    "loan_status_by_married = df.groupby(\"Married\")[\"Loan_Status\"].value_counts().unstack()"
   ]
  },
  {
   "cell_type": "code",
   "execution_count": 110,
   "metadata": {},
   "outputs": [
    {
     "data": {
      "image/png": "[encoded data removed]",
      "text/plain": [
       "<Figure size 640x480 with 1 Axes>"
      ]
     },
     "metadata": {},
     "output_type": "display_data"
    }
   ],
   "source": [
    "loan_status_by_married.plot(kind=\"bar\", stacked=True)\n",
    "plt.title(\"Loan Status by Marital Status\")\n",
    "plt.xlabel(\"Marital Status\")\n",
    "plt.ylabel(\"Count\")\n",
    "plt.legend(title=\"Loan Status\")\n",
    "plt.xticks(rotation=0)\n",
    "plt.show()"
   ]
  },
  {
   "cell_type": "code",
   "execution_count": 111,
   "metadata": {},
   "outputs": [
    {
     "data": {
      "image/png": "[encoded data removed]",
      "text/plain": [
       "<Figure size 640x480 with 1 Axes>"
      ]
     },
     "metadata": {},
     "output_type": "display_data"
    }
   ],
   "source": [
    "sns.scatterplot(x=\"ApplicantIncome\", y=\"LoanAmount\", data=df)\n",
    "plt.title(\"Applicant Income vs. Loan Amount\")\n",
    "plt.xlabel(\"Applicant Income\")\n",
    "plt.ylabel(\"Loan Amount\")\n",
    "plt.show()"
   ]
  },
  {
   "cell_type": "code",
   "execution_count": 112,
   "metadata": {},
   "outputs": [],
   "source": [
    "numeric_df = df.select_dtypes(include=[\"int64\", \"float64\"])"
   ]
  },
  {
   "cell_type": "code",
   "execution_count": 113,
   "metadata": {},
   "outputs": [
    {
     "data": {
      "application/vnd.microsoft.datawrangler.viewer.v0+json": {
       "columns": [
        {
         "name": "index",
         "rawType": "int64",
         "type": "integer"
        },
        {
         "name": "ApplicantIncome",
         "rawType": "int64",
         "type": "integer"
        },
        {
         "name": "CoapplicantIncome",
         "rawType": "float64",
         "type": "float"
        },
        {
         "name": "LoanAmount",
         "rawType": "float64",
         "type": "float"
        },
        {
         "name": "Loan_Amount_Term",
         "rawType": "float64",
         "type": "float"
        },
        {
         "name": "Credit_History",
         "rawType": "float64",
         "type": "float"
        }
       ],
       "conversionMethod": "pd.DataFrame",
       "ref": "e17b2ced-9d43-4950-a6ab-ebb71f8aaf6d",
       "rows": [
        [
         "0",
         "4583",
         "1508.0",
         "128.0",
         "360.0",
         "1.0"
        ],
        [
         "1",
         "3000",
         "0.0",
         "66.0",
         "360.0",
         "1.0"
        ],
        [
         "2",
         "2583",
         "2358.0",
         "120.0",
         "360.0",
         "1.0"
        ],
        [
         "3",
         "6000",
         "0.0",
         "141.0",
         "360.0",
         "1.0"
        ],
        [
         "4",
         "2333",
         "1516.0",
         "95.0",
         "360.0",
         "1.0"
        ],
        [
         "5",
         "3200",
         "700.0",
         "70.0",
         "360.0",
         "1.0"
        ],
        [
         "7",
         "1853",
         "2840.0",
         "114.0",
         "360.0",
         "1.0"
        ],
        [
         "8",
         "1299",
         "1086.0",
         "17.0",
         "120.0",
         "1.0"
        ],
        [
         "9",
         "4950",
         "0.0",
         "125.0",
         "360.0",
         "1.0"
        ],
        [
         "11",
         "3510",
         "0.0",
         "76.0",
         "360.0",
         "0.0"
        ],
        [
         "12",
         "4887",
         "0.0",
         "133.0",
         "360.0",
         "1.0"
        ],
        [
         "14",
         "7660",
         "0.0",
         "104.0",
         "360.0",
         "0.0"
        ],
        [
         "15",
         "2600",
         "1911.0",
         "116.0",
         "360.0",
         "0.0"
        ],
        [
         "17",
         "2799",
         "2253.0",
         "122.0",
         "360.0",
         "1.0"
        ],
        [
         "18",
         "4226",
         "1040.0",
         "110.0",
         "360.0",
         "1.0"
        ],
        [
         "19",
         "1442",
         "0.0",
         "35.0",
         "360.0",
         "1.0"
        ],
        [
         "21",
         "3167",
         "0.0",
         "74.0",
         "360.0",
         "1.0"
        ],
        [
         "22",
         "4692",
         "0.0",
         "106.0",
         "360.0",
         "1.0"
        ],
        [
         "23",
         "3500",
         "1667.0",
         "114.0",
         "360.0",
         "1.0"
        ],
        [
         "25",
         "3667",
         "1459.0",
         "144.0",
         "360.0",
         "1.0"
        ],
        [
         "26",
         "3748",
         "1668.0",
         "110.0",
         "360.0",
         "1.0"
        ],
        [
         "27",
         "3600",
         "0.0",
         "80.0",
         "360.0",
         "1.0"
        ],
        [
         "28",
         "1800",
         "1213.0",
         "47.0",
         "360.0",
         "1.0"
        ],
        [
         "30",
         "3941",
         "2336.0",
         "134.0",
         "360.0",
         "1.0"
        ],
        [
         "33",
         "5649",
         "0.0",
         "44.0",
         "360.0",
         "1.0"
        ],
        [
         "34",
         "5821",
         "0.0",
         "144.0",
         "360.0",
         "1.0"
        ],
        [
         "35",
         "2645",
         "3440.0",
         "120.0",
         "360.0",
         "0.0"
        ],
        [
         "36",
         "4000",
         "2275.0",
         "144.0",
         "360.0",
         "1.0"
        ],
        [
         "37",
         "1928",
         "1644.0",
         "100.0",
         "360.0",
         "1.0"
        ],
        [
         "38",
         "3086",
         "0.0",
         "120.0",
         "360.0",
         "1.0"
        ],
        [
         "39",
         "4230",
         "0.0",
         "112.0",
         "360.0",
         "1.0"
        ],
        [
         "40",
         "4616",
         "0.0",
         "134.0",
         "360.0",
         "1.0"
        ],
        [
         "41",
         "2708",
         "1167.0",
         "97.0",
         "360.0",
         "1.0"
        ],
        [
         "42",
         "2132",
         "1591.0",
         "96.0",
         "360.0",
         "1.0"
        ],
        [
         "43",
         "3366",
         "2200.0",
         "135.0",
         "360.0",
         "1.0"
        ],
        [
         "44",
         "3357",
         "2859.0",
         "144.0",
         "360.0",
         "1.0"
        ],
        [
         "45",
         "2500",
         "3796.0",
         "120.0",
         "360.0",
         "1.0"
        ],
        [
         "46",
         "3029",
         "0.0",
         "99.0",
         "360.0",
         "1.0"
        ],
        [
         "47",
         "4166",
         "0.0",
         "116.0",
         "360.0",
         "0.0"
        ],
        [
         "48",
         "3200",
         "2254.0",
         "126.0",
         "180.0",
         "0.0"
        ],
        [
         "49",
         "7100",
         "0.0",
         "125.0",
         "60.0",
         "1.0"
        ],
        [
         "50",
         "4300",
         "0.0",
         "136.0",
         "360.0",
         "0.0"
        ],
        [
         "51",
         "1875",
         "1875.0",
         "97.0",
         "360.0",
         "1.0"
        ],
        [
         "52",
         "3500",
         "0.0",
         "81.0",
         "300.0",
         "1.0"
        ],
        [
         "54",
         "3750",
         "0.0",
         "113.0",
         "480.0",
         "1.0"
        ],
        [
         "55",
         "1000",
         "3022.0",
         "110.0",
         "360.0",
         "1.0"
        ],
        [
         "57",
         "3846",
         "0.0",
         "111.0",
         "360.0",
         "1.0"
        ],
        [
         "58",
         "3988",
         "0.0",
         "50.0",
         "240.0",
         "1.0"
        ],
        [
         "59",
         "2366",
         "2531.0",
         "136.0",
         "360.0",
         "1.0"
        ],
        [
         "61",
         "2500",
         "2118.0",
         "104.0",
         "360.0",
         "1.0"
        ]
       ],
       "shape": {
        "columns": 5,
        "rows": 308
       }
      },
      "text/html": [
       "<div>\n",
       "<style scoped>\n",
       "    .dataframe tbody tr th:only-of-type {\n",
       "        vertical-align: middle;\n",
       "    }\n",
       "\n",
       "    .dataframe tbody tr th {\n",
       "        vertical-align: top;\n",
       "    }\n",
       "\n",
       "    .dataframe thead th {\n",
       "        text-align: right;\n",
       "    }\n",
       "</style>\n",
       "<table border=\"1\" class=\"dataframe\">\n",
       "  <thead>\n",
       "    <tr style=\"text-align: right;\">\n",
       "      <th></th>\n",
       "      <th>ApplicantIncome</th>\n",
       "      <th>CoapplicantIncome</th>\n",
       "      <th>LoanAmount</th>\n",
       "      <th>Loan_Amount_Term</th>\n",
       "      <th>Credit_History</th>\n",
       "    </tr>\n",
       "  </thead>\n",
       "  <tbody>\n",
       "    <tr>\n",
       "      <th>0</th>\n",
       "      <td>4583</td>\n",
       "      <td>1508.0</td>\n",
       "      <td>128.0</td>\n",
       "      <td>360.0</td>\n",
       "      <td>1.0</td>\n",
       "    </tr>\n",
       "    <tr>\n",
       "      <th>1</th>\n",
       "      <td>3000</td>\n",
       "      <td>0.0</td>\n",
       "      <td>66.0</td>\n",
       "      <td>360.0</td>\n",
       "      <td>1.0</td>\n",
       "    </tr>\n",
       "    <tr>\n",
       "      <th>2</th>\n",
       "      <td>2583</td>\n",
       "      <td>2358.0</td>\n",
       "      <td>120.0</td>\n",
       "      <td>360.0</td>\n",
       "      <td>1.0</td>\n",
       "    </tr>\n",
       "    <tr>\n",
       "      <th>3</th>\n",
       "      <td>6000</td>\n",
       "      <td>0.0</td>\n",
       "      <td>141.0</td>\n",
       "      <td>360.0</td>\n",
       "      <td>1.0</td>\n",
       "    </tr>\n",
       "    <tr>\n",
       "      <th>4</th>\n",
       "      <td>2333</td>\n",
       "      <td>1516.0</td>\n",
       "      <td>95.0</td>\n",
       "      <td>360.0</td>\n",
       "      <td>1.0</td>\n",
       "    </tr>\n",
       "    <tr>\n",
       "      <th>...</th>\n",
       "      <td>...</td>\n",
       "      <td>...</td>\n",
       "      <td>...</td>\n",
       "      <td>...</td>\n",
       "      <td>...</td>\n",
       "    </tr>\n",
       "    <tr>\n",
       "      <th>376</th>\n",
       "      <td>5703</td>\n",
       "      <td>0.0</td>\n",
       "      <td>128.0</td>\n",
       "      <td>360.0</td>\n",
       "      <td>1.0</td>\n",
       "    </tr>\n",
       "    <tr>\n",
       "      <th>377</th>\n",
       "      <td>3232</td>\n",
       "      <td>1950.0</td>\n",
       "      <td>108.0</td>\n",
       "      <td>360.0</td>\n",
       "      <td>1.0</td>\n",
       "    </tr>\n",
       "    <tr>\n",
       "      <th>378</th>\n",
       "      <td>2900</td>\n",
       "      <td>0.0</td>\n",
       "      <td>71.0</td>\n",
       "      <td>360.0</td>\n",
       "      <td>1.0</td>\n",
       "    </tr>\n",
       "    <tr>\n",
       "      <th>379</th>\n",
       "      <td>4106</td>\n",
       "      <td>0.0</td>\n",
       "      <td>40.0</td>\n",
       "      <td>180.0</td>\n",
       "      <td>1.0</td>\n",
       "    </tr>\n",
       "    <tr>\n",
       "      <th>380</th>\n",
       "      <td>4583</td>\n",
       "      <td>0.0</td>\n",
       "      <td>133.0</td>\n",
       "      <td>360.0</td>\n",
       "      <td>0.0</td>\n",
       "    </tr>\n",
       "  </tbody>\n",
       "</table>\n",
       "<p>308 rows × 5 columns</p>\n",
       "</div>"
      ],
      "text/plain": [
       "     ApplicantIncome  CoapplicantIncome  LoanAmount  Loan_Amount_Term  \\\n",
       "0               4583             1508.0       128.0             360.0   \n",
       "1               3000                0.0        66.0             360.0   \n",
       "2               2583             2358.0       120.0             360.0   \n",
       "3               6000                0.0       141.0             360.0   \n",
       "4               2333             1516.0        95.0             360.0   \n",
       "..               ...                ...         ...               ...   \n",
       "376             5703                0.0       128.0             360.0   \n",
       "377             3232             1950.0       108.0             360.0   \n",
       "378             2900                0.0        71.0             360.0   \n",
       "379             4106                0.0        40.0             180.0   \n",
       "380             4583                0.0       133.0             360.0   \n",
       "\n",
       "     Credit_History  \n",
       "0               1.0  \n",
       "1               1.0  \n",
       "2               1.0  \n",
       "3               1.0  \n",
       "4               1.0  \n",
       "..              ...  \n",
       "376             1.0  \n",
       "377             1.0  \n",
       "378             1.0  \n",
       "379             1.0  \n",
       "380             0.0  \n",
       "\n",
       "[308 rows x 5 columns]"
      ]
     },
     "execution_count": 113,
     "metadata": {},
     "output_type": "execute_result"
    }
   ],
   "source": [
    "numeric_df"
   ]
  },
  {
   "cell_type": "code",
   "execution_count": 114,
   "metadata": {},
   "outputs": [
    {
     "data": {
      "application/vnd.microsoft.datawrangler.viewer.v0+json": {
       "columns": [
        {
         "name": "index",
         "rawType": "object",
         "type": "string"
        },
        {
         "name": "ApplicantIncome",
         "rawType": "float64",
         "type": "float"
        },
        {
         "name": "CoapplicantIncome",
         "rawType": "float64",
         "type": "float"
        },
        {
         "name": "LoanAmount",
         "rawType": "float64",
         "type": "float"
        },
        {
         "name": "Loan_Amount_Term",
         "rawType": "float64",
         "type": "float"
        },
        {
         "name": "Credit_History",
         "rawType": "float64",
         "type": "float"
        }
       ],
       "conversionMethod": "pd.DataFrame",
       "ref": "12594c16-0e86-47fd-9941-a0dae2021bc8",
       "rows": [
        [
         "ApplicantIncome",
         "1.0",
         "-0.24367687875352495",
         "0.26762822024901806",
         "-0.09957138685992958",
         "0.03030726177486273"
        ],
        [
         "CoapplicantIncome",
         "-0.24367687875352495",
         "1.0",
         "0.1230281267176555",
         "-0.0041576725099169935",
         "0.01271541446493849"
        ],
        [
         "LoanAmount",
         "0.26762822024901806",
         "0.1230281267176555",
         "1.0",
         "0.13506933135642593",
         "-0.0438534490893983"
        ],
        [
         "Loan_Amount_Term",
         "-0.09957138685992958",
         "-0.0041576725099169935",
         "0.13506933135642593",
         "1.0",
         "0.01526938221335253"
        ],
        [
         "Credit_History",
         "0.03030726177486273",
         "0.01271541446493849",
         "-0.0438534490893983",
         "0.01526938221335253",
         "1.0"
        ]
       ],
       "shape": {
        "columns": 5,
        "rows": 5
       }
      },
      "text/html": [
       "<div>\n",
       "<style scoped>\n",
       "    .dataframe tbody tr th:only-of-type {\n",
       "        vertical-align: middle;\n",
       "    }\n",
       "\n",
       "    .dataframe tbody tr th {\n",
       "        vertical-align: top;\n",
       "    }\n",
       "\n",
       "    .dataframe thead th {\n",
       "        text-align: right;\n",
       "    }\n",
       "</style>\n",
       "<table border=\"1\" class=\"dataframe\">\n",
       "  <thead>\n",
       "    <tr style=\"text-align: right;\">\n",
       "      <th></th>\n",
       "      <th>ApplicantIncome</th>\n",
       "      <th>CoapplicantIncome</th>\n",
       "      <th>LoanAmount</th>\n",
       "      <th>Loan_Amount_Term</th>\n",
       "      <th>Credit_History</th>\n",
       "    </tr>\n",
       "  </thead>\n",
       "  <tbody>\n",
       "    <tr>\n",
       "      <th>ApplicantIncome</th>\n",
       "      <td>1.000000</td>\n",
       "      <td>-0.243677</td>\n",
       "      <td>0.267628</td>\n",
       "      <td>-0.099571</td>\n",
       "      <td>0.030307</td>\n",
       "    </tr>\n",
       "    <tr>\n",
       "      <th>CoapplicantIncome</th>\n",
       "      <td>-0.243677</td>\n",
       "      <td>1.000000</td>\n",
       "      <td>0.123028</td>\n",
       "      <td>-0.004158</td>\n",
       "      <td>0.012715</td>\n",
       "    </tr>\n",
       "    <tr>\n",
       "      <th>LoanAmount</th>\n",
       "      <td>0.267628</td>\n",
       "      <td>0.123028</td>\n",
       "      <td>1.000000</td>\n",
       "      <td>0.135069</td>\n",
       "      <td>-0.043853</td>\n",
       "    </tr>\n",
       "    <tr>\n",
       "      <th>Loan_Amount_Term</th>\n",
       "      <td>-0.099571</td>\n",
       "      <td>-0.004158</td>\n",
       "      <td>0.135069</td>\n",
       "      <td>1.000000</td>\n",
       "      <td>0.015269</td>\n",
       "    </tr>\n",
       "    <tr>\n",
       "      <th>Credit_History</th>\n",
       "      <td>0.030307</td>\n",
       "      <td>0.012715</td>\n",
       "      <td>-0.043853</td>\n",
       "      <td>0.015269</td>\n",
       "      <td>1.000000</td>\n",
       "    </tr>\n",
       "  </tbody>\n",
       "</table>\n",
       "</div>"
      ],
      "text/plain": [
       "                   ApplicantIncome  CoapplicantIncome  LoanAmount  \\\n",
       "ApplicantIncome           1.000000          -0.243677    0.267628   \n",
       "CoapplicantIncome        -0.243677           1.000000    0.123028   \n",
       "LoanAmount                0.267628           0.123028    1.000000   \n",
       "Loan_Amount_Term         -0.099571          -0.004158    0.135069   \n",
       "Credit_History            0.030307           0.012715   -0.043853   \n",
       "\n",
       "                   Loan_Amount_Term  Credit_History  \n",
       "ApplicantIncome           -0.099571        0.030307  \n",
       "CoapplicantIncome         -0.004158        0.012715  \n",
       "LoanAmount                 0.135069       -0.043853  \n",
       "Loan_Amount_Term           1.000000        0.015269  \n",
       "Credit_History             0.015269        1.000000  "
      ]
     },
     "execution_count": 114,
     "metadata": {},
     "output_type": "execute_result"
    }
   ],
   "source": [
    "correlation_matrix = numeric_df.corr()\n",
    "correlation_matrix"
   ]
  },
  {
   "cell_type": "code",
   "execution_count": 115,
   "metadata": {},
   "outputs": [
    {
     "data": {
      "image/png": "[encoded data removed]",
      "text/plain": [
       "<Figure size 640x480 with 2 Axes>"
      ]
     },
     "metadata": {},
     "output_type": "display_data"
    }
   ],
   "source": [
    "sns.heatmap(correlation_matrix, annot=True, cmap=\"coolwarm\")\n",
    "plt.title(\"Correlation Heatmap\")\n",
    "plt.show()"
   ]
  },
  {
   "cell_type": "code",
   "execution_count": 116,
   "metadata": {},
   "outputs": [
    {
     "data": {
      "text/plain": [
       "Index(['Loan_ID', 'Gender', 'Married', 'Dependents', 'Education',\n",
       "       'Self_Employed', 'ApplicantIncome', 'CoapplicantIncome', 'LoanAmount',\n",
       "       'Loan_Amount_Term', 'Credit_History', 'Property_Area', 'Loan_Status'],\n",
       "      dtype='object')"
      ]
     },
     "execution_count": 116,
     "metadata": {},
     "output_type": "execute_result"
    }
   ],
   "source": [
    "df.columns"
   ]
  },
  {
   "cell_type": "code",
   "execution_count": 117,
   "metadata": {},
   "outputs": [
    {
     "data": {
      "application/vnd.microsoft.datawrangler.viewer.v0+json": {
       "columns": [
        {
         "name": "index",
         "rawType": "int64",
         "type": "integer"
        },
        {
         "name": "Self_Employed",
         "rawType": "object",
         "type": "string"
        },
        {
         "name": "Loan_Amount_Term",
         "rawType": "float64",
         "type": "float"
        }
       ],
       "conversionMethod": "pd.DataFrame",
       "ref": "f0da8823-379a-416a-a439-3f5899996252",
       "rows": [
        [
         "0",
         "No",
         "342.3"
        ],
        [
         "1",
         "Yes",
         "330.0"
        ]
       ],
       "shape": {
        "columns": 2,
        "rows": 2
       }
      },
      "text/html": [
       "<div>\n",
       "<style scoped>\n",
       "    .dataframe tbody tr th:only-of-type {\n",
       "        vertical-align: middle;\n",
       "    }\n",
       "\n",
       "    .dataframe tbody tr th {\n",
       "        vertical-align: top;\n",
       "    }\n",
       "\n",
       "    .dataframe thead th {\n",
       "        text-align: right;\n",
       "    }\n",
       "</style>\n",
       "<table border=\"1\" class=\"dataframe\">\n",
       "  <thead>\n",
       "    <tr style=\"text-align: right;\">\n",
       "      <th></th>\n",
       "      <th>Self_Employed</th>\n",
       "      <th>Loan_Amount_Term</th>\n",
       "    </tr>\n",
       "  </thead>\n",
       "  <tbody>\n",
       "    <tr>\n",
       "      <th>0</th>\n",
       "      <td>No</td>\n",
       "      <td>342.3</td>\n",
       "    </tr>\n",
       "    <tr>\n",
       "      <th>1</th>\n",
       "      <td>Yes</td>\n",
       "      <td>330.0</td>\n",
       "    </tr>\n",
       "  </tbody>\n",
       "</table>\n",
       "</div>"
      ],
      "text/plain": [
       "  Self_Employed  Loan_Amount_Term\n",
       "0            No             342.3\n",
       "1           Yes             330.0"
      ]
     },
     "execution_count": 117,
     "metadata": {},
     "output_type": "execute_result"
    }
   ],
   "source": [
    "avg_loan_term_by_employed = df.groupby(\"Self_Employed\")[\"Loan_Amount_Term\"].mean().reset_index()\n",
    "avg_loan_term_by_employed"
   ]
  },
  {
   "cell_type": "code",
   "execution_count": 118,
   "metadata": {},
   "outputs": [
    {
     "data": {
      "image/png": "[encoded data removed]",
      "text/plain": [
       "<Figure size 640x480 with 1 Axes>"
      ]
     },
     "metadata": {},
     "output_type": "display_data"
    }
   ],
   "source": [
    "sns.barplot(x=\"Self_Employed\", y=\"Loan_Amount_Term\", data=avg_loan_term_by_employed)\n",
    "plt.title(\"Average Loan Term by Employment Status\")\n",
    "plt.xlabel(\"Self Employed\")\n",
    "plt.ylabel(\"Average Loan Term\")\n",
    "plt.show()"
   ]
  },
  {
   "cell_type": "code",
   "execution_count": 119,
   "metadata": {},
   "outputs": [
    {
     "data": {
      "application/vnd.microsoft.datawrangler.viewer.v0+json": {
       "columns": [
        {
         "name": "index",
         "rawType": "int64",
         "type": "integer"
        },
        {
         "name": "Loan_ID",
         "rawType": "object",
         "type": "string"
        },
        {
         "name": "Gender",
         "rawType": "object",
         "type": "string"
        },
        {
         "name": "Married",
         "rawType": "object",
         "type": "string"
        },
        {
         "name": "Dependents",
         "rawType": "object",
         "type": "string"
        },
        {
         "name": "Education",
         "rawType": "object",
         "type": "string"
        },
        {
         "name": "Self_Employed",
         "rawType": "object",
         "type": "string"
        },
        {
         "name": "ApplicantIncome",
         "rawType": "int64",
         "type": "integer"
        },
        {
         "name": "CoapplicantIncome",
         "rawType": "float64",
         "type": "float"
        },
        {
         "name": "LoanAmount",
         "rawType": "float64",
         "type": "float"
        },
        {
         "name": "Loan_Amount_Term",
         "rawType": "float64",
         "type": "float"
        },
        {
         "name": "Credit_History",
         "rawType": "float64",
         "type": "float"
        },
        {
         "name": "Property_Area",
         "rawType": "object",
         "type": "string"
        },
        {
         "name": "Loan_Status",
         "rawType": "object",
         "type": "string"
        }
       ],
       "conversionMethod": "pd.DataFrame",
       "ref": "a0e1a427-62b7-4882-a226-6d58d7b33de8",
       "rows": [
        [
         "0",
         "LP001003",
         "Male",
         "Yes",
         "1",
         "Graduate",
         "No",
         "4583",
         "1508.0",
         "128.0",
         "360.0",
         "1.0",
         "Rural",
         "N"
        ],
        [
         "1",
         "LP001005",
         "Male",
         "Yes",
         "0",
         "Graduate",
         "Yes",
         "3000",
         "0.0",
         "66.0",
         "360.0",
         "1.0",
         "Urban",
         "Y"
        ],
        [
         "2",
         "LP001006",
         "Male",
         "Yes",
         "0",
         "Not Graduate",
         "No",
         "2583",
         "2358.0",
         "120.0",
         "360.0",
         "1.0",
         "Urban",
         "Y"
        ],
        [
         "3",
         "LP001008",
         "Male",
         "No",
         "0",
         "Graduate",
         "No",
         "6000",
         "0.0",
         "141.0",
         "360.0",
         "1.0",
         "Urban",
         "Y"
        ],
        [
         "4",
         "LP001013",
         "Male",
         "Yes",
         "0",
         "Not Graduate",
         "No",
         "2333",
         "1516.0",
         "95.0",
         "360.0",
         "1.0",
         "Urban",
         "Y"
        ],
        [
         "5",
         "LP001024",
         "Male",
         "Yes",
         "2",
         "Graduate",
         "No",
         "3200",
         "700.0",
         "70.0",
         "360.0",
         "1.0",
         "Urban",
         "Y"
        ],
        [
         "7",
         "LP001029",
         "Male",
         "No",
         "0",
         "Graduate",
         "No",
         "1853",
         "2840.0",
         "114.0",
         "360.0",
         "1.0",
         "Rural",
         "N"
        ],
        [
         "8",
         "LP001030",
         "Male",
         "Yes",
         "2",
         "Graduate",
         "No",
         "1299",
         "1086.0",
         "17.0",
         "120.0",
         "1.0",
         "Urban",
         "Y"
        ],
        [
         "9",
         "LP001032",
         "Male",
         "No",
         "0",
         "Graduate",
         "No",
         "4950",
         "0.0",
         "125.0",
         "360.0",
         "1.0",
         "Urban",
         "Y"
        ],
        [
         "11",
         "LP001036",
         "Female",
         "No",
         "0",
         "Graduate",
         "No",
         "3510",
         "0.0",
         "76.0",
         "360.0",
         "0.0",
         "Urban",
         "N"
        ],
        [
         "12",
         "LP001038",
         "Male",
         "Yes",
         "0",
         "Not Graduate",
         "No",
         "4887",
         "0.0",
         "133.0",
         "360.0",
         "1.0",
         "Rural",
         "N"
        ],
        [
         "14",
         "LP001043",
         "Male",
         "Yes",
         "0",
         "Not Graduate",
         "No",
         "7660",
         "0.0",
         "104.0",
         "360.0",
         "0.0",
         "Urban",
         "N"
        ],
        [
         "15",
         "LP001047",
         "Male",
         "Yes",
         "0",
         "Not Graduate",
         "No",
         "2600",
         "1911.0",
         "116.0",
         "360.0",
         "0.0",
         "Semiurban",
         "N"
        ],
        [
         "17",
         "LP001068",
         "Male",
         "Yes",
         "0",
         "Graduate",
         "No",
         "2799",
         "2253.0",
         "122.0",
         "360.0",
         "1.0",
         "Semiurban",
         "Y"
        ],
        [
         "18",
         "LP001073",
         "Male",
         "Yes",
         "2",
         "Not Graduate",
         "No",
         "4226",
         "1040.0",
         "110.0",
         "360.0",
         "1.0",
         "Urban",
         "Y"
        ],
        [
         "19",
         "LP001086",
         "Male",
         "No",
         "0",
         "Not Graduate",
         "No",
         "1442",
         "0.0",
         "35.0",
         "360.0",
         "1.0",
         "Urban",
         "N"
        ],
        [
         "21",
         "LP001095",
         "Male",
         "No",
         "0",
         "Graduate",
         "No",
         "3167",
         "0.0",
         "74.0",
         "360.0",
         "1.0",
         "Urban",
         "N"
        ],
        [
         "22",
         "LP001097",
         "Male",
         "No",
         "1",
         "Graduate",
         "Yes",
         "4692",
         "0.0",
         "106.0",
         "360.0",
         "1.0",
         "Rural",
         "N"
        ],
        [
         "23",
         "LP001098",
         "Male",
         "Yes",
         "0",
         "Graduate",
         "No",
         "3500",
         "1667.0",
         "114.0",
         "360.0",
         "1.0",
         "Semiurban",
         "Y"
        ],
        [
         "25",
         "LP001112",
         "Female",
         "Yes",
         "0",
         "Graduate",
         "No",
         "3667",
         "1459.0",
         "144.0",
         "360.0",
         "1.0",
         "Semiurban",
         "Y"
        ],
        [
         "26",
         "LP001116",
         "Male",
         "No",
         "0",
         "Not Graduate",
         "No",
         "3748",
         "1668.0",
         "110.0",
         "360.0",
         "1.0",
         "Semiurban",
         "Y"
        ],
        [
         "27",
         "LP001119",
         "Male",
         "No",
         "0",
         "Graduate",
         "No",
         "3600",
         "0.0",
         "80.0",
         "360.0",
         "1.0",
         "Urban",
         "N"
        ],
        [
         "28",
         "LP001120",
         "Male",
         "No",
         "0",
         "Graduate",
         "No",
         "1800",
         "1213.0",
         "47.0",
         "360.0",
         "1.0",
         "Urban",
         "Y"
        ],
        [
         "30",
         "LP001131",
         "Male",
         "Yes",
         "0",
         "Graduate",
         "No",
         "3941",
         "2336.0",
         "134.0",
         "360.0",
         "1.0",
         "Semiurban",
         "Y"
        ],
        [
         "33",
         "LP001138",
         "Male",
         "Yes",
         "1",
         "Graduate",
         "No",
         "5649",
         "0.0",
         "44.0",
         "360.0",
         "1.0",
         "Urban",
         "Y"
        ],
        [
         "34",
         "LP001144",
         "Male",
         "Yes",
         "0",
         "Graduate",
         "No",
         "5821",
         "0.0",
         "144.0",
         "360.0",
         "1.0",
         "Urban",
         "Y"
        ],
        [
         "35",
         "LP001146",
         "Female",
         "Yes",
         "0",
         "Graduate",
         "No",
         "2645",
         "3440.0",
         "120.0",
         "360.0",
         "0.0",
         "Urban",
         "N"
        ],
        [
         "36",
         "LP001151",
         "Female",
         "No",
         "0",
         "Graduate",
         "No",
         "4000",
         "2275.0",
         "144.0",
         "360.0",
         "1.0",
         "Semiurban",
         "Y"
        ],
        [
         "37",
         "LP001155",
         "Female",
         "Yes",
         "0",
         "Not Graduate",
         "No",
         "1928",
         "1644.0",
         "100.0",
         "360.0",
         "1.0",
         "Semiurban",
         "Y"
        ],
        [
         "38",
         "LP001157",
         "Female",
         "No",
         "0",
         "Graduate",
         "No",
         "3086",
         "0.0",
         "120.0",
         "360.0",
         "1.0",
         "Semiurban",
         "Y"
        ],
        [
         "39",
         "LP001164",
         "Female",
         "No",
         "0",
         "Graduate",
         "No",
         "4230",
         "0.0",
         "112.0",
         "360.0",
         "1.0",
         "Semiurban",
         "N"
        ],
        [
         "40",
         "LP001179",
         "Male",
         "Yes",
         "2",
         "Graduate",
         "No",
         "4616",
         "0.0",
         "134.0",
         "360.0",
         "1.0",
         "Urban",
         "N"
        ],
        [
         "41",
         "LP001194",
         "Male",
         "Yes",
         "2",
         "Graduate",
         "No",
         "2708",
         "1167.0",
         "97.0",
         "360.0",
         "1.0",
         "Semiurban",
         "Y"
        ],
        [
         "42",
         "LP001195",
         "Male",
         "Yes",
         "0",
         "Graduate",
         "No",
         "2132",
         "1591.0",
         "96.0",
         "360.0",
         "1.0",
         "Semiurban",
         "Y"
        ],
        [
         "43",
         "LP001197",
         "Male",
         "Yes",
         "0",
         "Graduate",
         "No",
         "3366",
         "2200.0",
         "135.0",
         "360.0",
         "1.0",
         "Rural",
         "N"
        ],
        [
         "44",
         "LP001199",
         "Male",
         "Yes",
         "2",
         "Not Graduate",
         "No",
         "3357",
         "2859.0",
         "144.0",
         "360.0",
         "1.0",
         "Urban",
         "Y"
        ],
        [
         "45",
         "LP001205",
         "Male",
         "Yes",
         "0",
         "Graduate",
         "No",
         "2500",
         "3796.0",
         "120.0",
         "360.0",
         "1.0",
         "Urban",
         "Y"
        ],
        [
         "46",
         "LP001206",
         "Male",
         "Yes",
         "3+",
         "Graduate",
         "No",
         "3029",
         "0.0",
         "99.0",
         "360.0",
         "1.0",
         "Urban",
         "Y"
        ],
        [
         "47",
         "LP001222",
         "Female",
         "No",
         "0",
         "Graduate",
         "No",
         "4166",
         "0.0",
         "116.0",
         "360.0",
         "0.0",
         "Semiurban",
         "N"
        ],
        [
         "48",
         "LP001228",
         "Male",
         "No",
         "0",
         "Not Graduate",
         "No",
         "3200",
         "2254.0",
         "126.0",
         "180.0",
         "0.0",
         "Urban",
         "N"
        ],
        [
         "49",
         "LP001238",
         "Male",
         "Yes",
         "3+",
         "Not Graduate",
         "Yes",
         "7100",
         "0.0",
         "125.0",
         "60.0",
         "1.0",
         "Urban",
         "Y"
        ],
        [
         "50",
         "LP001241",
         "Female",
         "No",
         "0",
         "Graduate",
         "No",
         "4300",
         "0.0",
         "136.0",
         "360.0",
         "0.0",
         "Semiurban",
         "N"
        ],
        [
         "51",
         "LP001245",
         "Male",
         "Yes",
         "2",
         "Not Graduate",
         "Yes",
         "1875",
         "1875.0",
         "97.0",
         "360.0",
         "1.0",
         "Semiurban",
         "Y"
        ],
        [
         "52",
         "LP001248",
         "Male",
         "No",
         "0",
         "Graduate",
         "No",
         "3500",
         "0.0",
         "81.0",
         "300.0",
         "1.0",
         "Semiurban",
         "Y"
        ],
        [
         "54",
         "LP001255",
         "Male",
         "No",
         "0",
         "Graduate",
         "No",
         "3750",
         "0.0",
         "113.0",
         "480.0",
         "1.0",
         "Urban",
         "N"
        ],
        [
         "55",
         "LP001259",
         "Male",
         "Yes",
         "1",
         "Graduate",
         "Yes",
         "1000",
         "3022.0",
         "110.0",
         "360.0",
         "1.0",
         "Urban",
         "N"
        ],
        [
         "57",
         "LP001265",
         "Female",
         "No",
         "0",
         "Graduate",
         "No",
         "3846",
         "0.0",
         "111.0",
         "360.0",
         "1.0",
         "Semiurban",
         "Y"
        ],
        [
         "58",
         "LP001275",
         "Male",
         "Yes",
         "1",
         "Graduate",
         "No",
         "3988",
         "0.0",
         "50.0",
         "240.0",
         "1.0",
         "Urban",
         "Y"
        ],
        [
         "59",
         "LP001279",
         "Male",
         "No",
         "0",
         "Graduate",
         "No",
         "2366",
         "2531.0",
         "136.0",
         "360.0",
         "1.0",
         "Semiurban",
         "Y"
        ],
        [
         "61",
         "LP001282",
         "Male",
         "Yes",
         "0",
         "Graduate",
         "No",
         "2500",
         "2118.0",
         "104.0",
         "360.0",
         "1.0",
         "Semiurban",
         "Y"
        ]
       ],
       "shape": {
        "columns": 13,
        "rows": 308
       }
      },
      "text/html": [
       "<div>\n",
       "<style scoped>\n",
       "    .dataframe tbody tr th:only-of-type {\n",
       "        vertical-align: middle;\n",
       "    }\n",
       "\n",
       "    .dataframe tbody tr th {\n",
       "        vertical-align: top;\n",
       "    }\n",
       "\n",
       "    .dataframe thead th {\n",
       "        text-align: right;\n",
       "    }\n",
       "</style>\n",
       "<table border=\"1\" class=\"dataframe\">\n",
       "  <thead>\n",
       "    <tr style=\"text-align: right;\">\n",
       "      <th></th>\n",
       "      <th>Loan_ID</th>\n",
       "      <th>Gender</th>\n",
       "      <th>Married</th>\n",
       "      <th>Dependents</th>\n",
       "      <th>Education</th>\n",
       "      <th>Self_Employed</th>\n",
       "      <th>ApplicantIncome</th>\n",
       "      <th>CoapplicantIncome</th>\n",
       "      <th>LoanAmount</th>\n",
       "      <th>Loan_Amount_Term</th>\n",
       "      <th>Credit_History</th>\n",
       "      <th>Property_Area</th>\n",
       "      <th>Loan_Status</th>\n",
       "    </tr>\n",
       "  </thead>\n",
       "  <tbody>\n",
       "    <tr>\n",
       "      <th>0</th>\n",
       "      <td>LP001003</td>\n",
       "      <td>Male</td>\n",
       "      <td>Yes</td>\n",
       "      <td>1</td>\n",
       "      <td>Graduate</td>\n",
       "      <td>No</td>\n",
       "      <td>4583</td>\n",
       "      <td>1508.0</td>\n",
       "      <td>128.0</td>\n",
       "      <td>360.0</td>\n",
       "      <td>1.0</td>\n",
       "      <td>Rural</td>\n",
       "      <td>N</td>\n",
       "    </tr>\n",
       "    <tr>\n",
       "      <th>1</th>\n",
       "      <td>LP001005</td>\n",
       "      <td>Male</td>\n",
       "      <td>Yes</td>\n",
       "      <td>0</td>\n",
       "      <td>Graduate</td>\n",
       "      <td>Yes</td>\n",
       "      <td>3000</td>\n",
       "      <td>0.0</td>\n",
       "      <td>66.0</td>\n",
       "      <td>360.0</td>\n",
       "      <td>1.0</td>\n",
       "      <td>Urban</td>\n",
       "      <td>Y</td>\n",
       "    </tr>\n",
       "    <tr>\n",
       "      <th>2</th>\n",
       "      <td>LP001006</td>\n",
       "      <td>Male</td>\n",
       "      <td>Yes</td>\n",
       "      <td>0</td>\n",
       "      <td>Not Graduate</td>\n",
       "      <td>No</td>\n",
       "      <td>2583</td>\n",
       "      <td>2358.0</td>\n",
       "      <td>120.0</td>\n",
       "      <td>360.0</td>\n",
       "      <td>1.0</td>\n",
       "      <td>Urban</td>\n",
       "      <td>Y</td>\n",
       "    </tr>\n",
       "    <tr>\n",
       "      <th>3</th>\n",
       "      <td>LP001008</td>\n",
       "      <td>Male</td>\n",
       "      <td>No</td>\n",
       "      <td>0</td>\n",
       "      <td>Graduate</td>\n",
       "      <td>No</td>\n",
       "      <td>6000</td>\n",
       "      <td>0.0</td>\n",
       "      <td>141.0</td>\n",
       "      <td>360.0</td>\n",
       "      <td>1.0</td>\n",
       "      <td>Urban</td>\n",
       "      <td>Y</td>\n",
       "    </tr>\n",
       "    <tr>\n",
       "      <th>4</th>\n",
       "      <td>LP001013</td>\n",
       "      <td>Male</td>\n",
       "      <td>Yes</td>\n",
       "      <td>0</td>\n",
       "      <td>Not Graduate</td>\n",
       "      <td>No</td>\n",
       "      <td>2333</td>\n",
       "      <td>1516.0</td>\n",
       "      <td>95.0</td>\n",
       "      <td>360.0</td>\n",
       "      <td>1.0</td>\n",
       "      <td>Urban</td>\n",
       "      <td>Y</td>\n",
       "    </tr>\n",
       "    <tr>\n",
       "      <th>...</th>\n",
       "      <td>...</td>\n",
       "      <td>...</td>\n",
       "      <td>...</td>\n",
       "      <td>...</td>\n",
       "      <td>...</td>\n",
       "      <td>...</td>\n",
       "      <td>...</td>\n",
       "      <td>...</td>\n",
       "      <td>...</td>\n",
       "      <td>...</td>\n",
       "      <td>...</td>\n",
       "      <td>...</td>\n",
       "      <td>...</td>\n",
       "    </tr>\n",
       "    <tr>\n",
       "      <th>376</th>\n",
       "      <td>LP002953</td>\n",
       "      <td>Male</td>\n",
       "      <td>Yes</td>\n",
       "      <td>3+</td>\n",
       "      <td>Graduate</td>\n",
       "      <td>No</td>\n",
       "      <td>5703</td>\n",
       "      <td>0.0</td>\n",
       "      <td>128.0</td>\n",
       "      <td>360.0</td>\n",
       "      <td>1.0</td>\n",
       "      <td>Urban</td>\n",
       "      <td>Y</td>\n",
       "    </tr>\n",
       "    <tr>\n",
       "      <th>377</th>\n",
       "      <td>LP002974</td>\n",
       "      <td>Male</td>\n",
       "      <td>Yes</td>\n",
       "      <td>0</td>\n",
       "      <td>Graduate</td>\n",
       "      <td>No</td>\n",
       "      <td>3232</td>\n",
       "      <td>1950.0</td>\n",
       "      <td>108.0</td>\n",
       "      <td>360.0</td>\n",
       "      <td>1.0</td>\n",
       "      <td>Rural</td>\n",
       "      <td>Y</td>\n",
       "    </tr>\n",
       "    <tr>\n",
       "      <th>378</th>\n",
       "      <td>LP002978</td>\n",
       "      <td>Female</td>\n",
       "      <td>No</td>\n",
       "      <td>0</td>\n",
       "      <td>Graduate</td>\n",
       "      <td>No</td>\n",
       "      <td>2900</td>\n",
       "      <td>0.0</td>\n",
       "      <td>71.0</td>\n",
       "      <td>360.0</td>\n",
       "      <td>1.0</td>\n",
       "      <td>Rural</td>\n",
       "      <td>Y</td>\n",
       "    </tr>\n",
       "    <tr>\n",
       "      <th>379</th>\n",
       "      <td>LP002979</td>\n",
       "      <td>Male</td>\n",
       "      <td>Yes</td>\n",
       "      <td>3+</td>\n",
       "      <td>Graduate</td>\n",
       "      <td>No</td>\n",
       "      <td>4106</td>\n",
       "      <td>0.0</td>\n",
       "      <td>40.0</td>\n",
       "      <td>180.0</td>\n",
       "      <td>1.0</td>\n",
       "      <td>Rural</td>\n",
       "      <td>Y</td>\n",
       "    </tr>\n",
       "    <tr>\n",
       "      <th>380</th>\n",
       "      <td>LP002990</td>\n",
       "      <td>Female</td>\n",
       "      <td>No</td>\n",
       "      <td>0</td>\n",
       "      <td>Graduate</td>\n",
       "      <td>Yes</td>\n",
       "      <td>4583</td>\n",
       "      <td>0.0</td>\n",
       "      <td>133.0</td>\n",
       "      <td>360.0</td>\n",
       "      <td>0.0</td>\n",
       "      <td>Semiurban</td>\n",
       "      <td>N</td>\n",
       "    </tr>\n",
       "  </tbody>\n",
       "</table>\n",
       "<p>308 rows × 13 columns</p>\n",
       "</div>"
      ],
      "text/plain": [
       "      Loan_ID  Gender Married Dependents     Education Self_Employed  \\\n",
       "0    LP001003    Male     Yes          1      Graduate            No   \n",
       "1    LP001005    Male     Yes          0      Graduate           Yes   \n",
       "2    LP001006    Male     Yes          0  Not Graduate            No   \n",
       "3    LP001008    Male      No          0      Graduate            No   \n",
       "4    LP001013    Male     Yes          0  Not Graduate            No   \n",
       "..        ...     ...     ...        ...           ...           ...   \n",
       "376  LP002953    Male     Yes         3+      Graduate            No   \n",
       "377  LP002974    Male     Yes          0      Graduate            No   \n",
       "378  LP002978  Female      No          0      Graduate            No   \n",
       "379  LP002979    Male     Yes         3+      Graduate            No   \n",
       "380  LP002990  Female      No          0      Graduate           Yes   \n",
       "\n",
       "     ApplicantIncome  CoapplicantIncome  LoanAmount  Loan_Amount_Term  \\\n",
       "0               4583             1508.0       128.0             360.0   \n",
       "1               3000                0.0        66.0             360.0   \n",
       "2               2583             2358.0       120.0             360.0   \n",
       "3               6000                0.0       141.0             360.0   \n",
       "4               2333             1516.0        95.0             360.0   \n",
       "..               ...                ...         ...               ...   \n",
       "376             5703                0.0       128.0             360.0   \n",
       "377             3232             1950.0       108.0             360.0   \n",
       "378             2900                0.0        71.0             360.0   \n",
       "379             4106                0.0        40.0             180.0   \n",
       "380             4583                0.0       133.0             360.0   \n",
       "\n",
       "     Credit_History Property_Area Loan_Status  \n",
       "0               1.0         Rural           N  \n",
       "1               1.0         Urban           Y  \n",
       "2               1.0         Urban           Y  \n",
       "3               1.0         Urban           Y  \n",
       "4               1.0         Urban           Y  \n",
       "..              ...           ...         ...  \n",
       "376             1.0         Urban           Y  \n",
       "377             1.0         Rural           Y  \n",
       "378             1.0         Rural           Y  \n",
       "379             1.0         Rural           Y  \n",
       "380             0.0     Semiurban           N  \n",
       "\n",
       "[308 rows x 13 columns]"
      ]
     },
     "execution_count": 119,
     "metadata": {},
     "output_type": "execute_result"
    }
   ],
   "source": [
    "df"
   ]
  },
  {
   "cell_type": "code",
   "execution_count": 120,
   "metadata": {},
   "outputs": [
    {
     "data": {
      "application/vnd.microsoft.datawrangler.viewer.v0+json": {
       "columns": [
        {
         "name": "index",
         "rawType": "int64",
         "type": "integer"
        },
        {
         "name": "ApplicantIncome",
         "rawType": "int64",
         "type": "integer"
        },
        {
         "name": "Married",
         "rawType": "object",
         "type": "string"
        },
        {
         "name": "CoapplicantIncome",
         "rawType": "float64",
         "type": "float"
        },
        {
         "name": "Education",
         "rawType": "object",
         "type": "string"
        },
        {
         "name": "LoanAmount",
         "rawType": "float64",
         "type": "float"
        },
        {
         "name": "Credit_History",
         "rawType": "float64",
         "type": "float"
        },
        {
         "name": "Property_Area",
         "rawType": "object",
         "type": "string"
        }
       ],
       "conversionMethod": "pd.DataFrame",
       "ref": "15c0ca86-62fd-42fa-a05f-464849a6f839",
       "rows": [
        [
         "0",
         "4583",
         "Yes",
         "1508.0",
         "Graduate",
         "128.0",
         "1.0",
         "Rural"
        ],
        [
         "1",
         "3000",
         "Yes",
         "0.0",
         "Graduate",
         "66.0",
         "1.0",
         "Urban"
        ],
        [
         "2",
         "2583",
         "Yes",
         "2358.0",
         "Not Graduate",
         "120.0",
         "1.0",
         "Urban"
        ],
        [
         "3",
         "6000",
         "No",
         "0.0",
         "Graduate",
         "141.0",
         "1.0",
         "Urban"
        ],
        [
         "4",
         "2333",
         "Yes",
         "1516.0",
         "Not Graduate",
         "95.0",
         "1.0",
         "Urban"
        ],
        [
         "5",
         "3200",
         "Yes",
         "700.0",
         "Graduate",
         "70.0",
         "1.0",
         "Urban"
        ],
        [
         "7",
         "1853",
         "No",
         "2840.0",
         "Graduate",
         "114.0",
         "1.0",
         "Rural"
        ],
        [
         "8",
         "1299",
         "Yes",
         "1086.0",
         "Graduate",
         "17.0",
         "1.0",
         "Urban"
        ],
        [
         "9",
         "4950",
         "No",
         "0.0",
         "Graduate",
         "125.0",
         "1.0",
         "Urban"
        ],
        [
         "11",
         "3510",
         "No",
         "0.0",
         "Graduate",
         "76.0",
         "0.0",
         "Urban"
        ],
        [
         "12",
         "4887",
         "Yes",
         "0.0",
         "Not Graduate",
         "133.0",
         "1.0",
         "Rural"
        ],
        [
         "14",
         "7660",
         "Yes",
         "0.0",
         "Not Graduate",
         "104.0",
         "0.0",
         "Urban"
        ],
        [
         "15",
         "2600",
         "Yes",
         "1911.0",
         "Not Graduate",
         "116.0",
         "0.0",
         "Semiurban"
        ],
        [
         "17",
         "2799",
         "Yes",
         "2253.0",
         "Graduate",
         "122.0",
         "1.0",
         "Semiurban"
        ],
        [
         "18",
         "4226",
         "Yes",
         "1040.0",
         "Not Graduate",
         "110.0",
         "1.0",
         "Urban"
        ],
        [
         "19",
         "1442",
         "No",
         "0.0",
         "Not Graduate",
         "35.0",
         "1.0",
         "Urban"
        ],
        [
         "21",
         "3167",
         "No",
         "0.0",
         "Graduate",
         "74.0",
         "1.0",
         "Urban"
        ],
        [
         "22",
         "4692",
         "No",
         "0.0",
         "Graduate",
         "106.0",
         "1.0",
         "Rural"
        ],
        [
         "23",
         "3500",
         "Yes",
         "1667.0",
         "Graduate",
         "114.0",
         "1.0",
         "Semiurban"
        ],
        [
         "25",
         "3667",
         "Yes",
         "1459.0",
         "Graduate",
         "144.0",
         "1.0",
         "Semiurban"
        ],
        [
         "26",
         "3748",
         "No",
         "1668.0",
         "Not Graduate",
         "110.0",
         "1.0",
         "Semiurban"
        ],
        [
         "27",
         "3600",
         "No",
         "0.0",
         "Graduate",
         "80.0",
         "1.0",
         "Urban"
        ],
        [
         "28",
         "1800",
         "No",
         "1213.0",
         "Graduate",
         "47.0",
         "1.0",
         "Urban"
        ],
        [
         "30",
         "3941",
         "Yes",
         "2336.0",
         "Graduate",
         "134.0",
         "1.0",
         "Semiurban"
        ],
        [
         "33",
         "5649",
         "Yes",
         "0.0",
         "Graduate",
         "44.0",
         "1.0",
         "Urban"
        ],
        [
         "34",
         "5821",
         "Yes",
         "0.0",
         "Graduate",
         "144.0",
         "1.0",
         "Urban"
        ],
        [
         "35",
         "2645",
         "Yes",
         "3440.0",
         "Graduate",
         "120.0",
         "0.0",
         "Urban"
        ],
        [
         "36",
         "4000",
         "No",
         "2275.0",
         "Graduate",
         "144.0",
         "1.0",
         "Semiurban"
        ],
        [
         "37",
         "1928",
         "Yes",
         "1644.0",
         "Not Graduate",
         "100.0",
         "1.0",
         "Semiurban"
        ],
        [
         "38",
         "3086",
         "No",
         "0.0",
         "Graduate",
         "120.0",
         "1.0",
         "Semiurban"
        ],
        [
         "39",
         "4230",
         "No",
         "0.0",
         "Graduate",
         "112.0",
         "1.0",
         "Semiurban"
        ],
        [
         "40",
         "4616",
         "Yes",
         "0.0",
         "Graduate",
         "134.0",
         "1.0",
         "Urban"
        ],
        [
         "41",
         "2708",
         "Yes",
         "1167.0",
         "Graduate",
         "97.0",
         "1.0",
         "Semiurban"
        ],
        [
         "42",
         "2132",
         "Yes",
         "1591.0",
         "Graduate",
         "96.0",
         "1.0",
         "Semiurban"
        ],
        [
         "43",
         "3366",
         "Yes",
         "2200.0",
         "Graduate",
         "135.0",
         "1.0",
         "Rural"
        ],
        [
         "44",
         "3357",
         "Yes",
         "2859.0",
         "Not Graduate",
         "144.0",
         "1.0",
         "Urban"
        ],
        [
         "45",
         "2500",
         "Yes",
         "3796.0",
         "Graduate",
         "120.0",
         "1.0",
         "Urban"
        ],
        [
         "46",
         "3029",
         "Yes",
         "0.0",
         "Graduate",
         "99.0",
         "1.0",
         "Urban"
        ],
        [
         "47",
         "4166",
         "No",
         "0.0",
         "Graduate",
         "116.0",
         "0.0",
         "Semiurban"
        ],
        [
         "48",
         "3200",
         "No",
         "2254.0",
         "Not Graduate",
         "126.0",
         "0.0",
         "Urban"
        ],
        [
         "49",
         "7100",
         "Yes",
         "0.0",
         "Not Graduate",
         "125.0",
         "1.0",
         "Urban"
        ],
        [
         "50",
         "4300",
         "No",
         "0.0",
         "Graduate",
         "136.0",
         "0.0",
         "Semiurban"
        ],
        [
         "51",
         "1875",
         "Yes",
         "1875.0",
         "Not Graduate",
         "97.0",
         "1.0",
         "Semiurban"
        ],
        [
         "52",
         "3500",
         "No",
         "0.0",
         "Graduate",
         "81.0",
         "1.0",
         "Semiurban"
        ],
        [
         "54",
         "3750",
         "No",
         "0.0",
         "Graduate",
         "113.0",
         "1.0",
         "Urban"
        ],
        [
         "55",
         "1000",
         "Yes",
         "3022.0",
         "Graduate",
         "110.0",
         "1.0",
         "Urban"
        ],
        [
         "57",
         "3846",
         "No",
         "0.0",
         "Graduate",
         "111.0",
         "1.0",
         "Semiurban"
        ],
        [
         "58",
         "3988",
         "Yes",
         "0.0",
         "Graduate",
         "50.0",
         "1.0",
         "Urban"
        ],
        [
         "59",
         "2366",
         "No",
         "2531.0",
         "Graduate",
         "136.0",
         "1.0",
         "Semiurban"
        ],
        [
         "61",
         "2500",
         "Yes",
         "2118.0",
         "Graduate",
         "104.0",
         "1.0",
         "Semiurban"
        ]
       ],
       "shape": {
        "columns": 7,
        "rows": 308
       }
      },
      "text/html": [
       "<div>\n",
       "<style scoped>\n",
       "    .dataframe tbody tr th:only-of-type {\n",
       "        vertical-align: middle;\n",
       "    }\n",
       "\n",
       "    .dataframe tbody tr th {\n",
       "        vertical-align: top;\n",
       "    }\n",
       "\n",
       "    .dataframe thead th {\n",
       "        text-align: right;\n",
       "    }\n",
       "</style>\n",
       "<table border=\"1\" class=\"dataframe\">\n",
       "  <thead>\n",
       "    <tr style=\"text-align: right;\">\n",
       "      <th></th>\n",
       "      <th>ApplicantIncome</th>\n",
       "      <th>Married</th>\n",
       "      <th>CoapplicantIncome</th>\n",
       "      <th>Education</th>\n",
       "      <th>LoanAmount</th>\n",
       "      <th>Credit_History</th>\n",
       "      <th>Property_Area</th>\n",
       "    </tr>\n",
       "  </thead>\n",
       "  <tbody>\n",
       "    <tr>\n",
       "      <th>0</th>\n",
       "      <td>4583</td>\n",
       "      <td>Yes</td>\n",
       "      <td>1508.0</td>\n",
       "      <td>Graduate</td>\n",
       "      <td>128.0</td>\n",
       "      <td>1.0</td>\n",
       "      <td>Rural</td>\n",
       "    </tr>\n",
       "    <tr>\n",
       "      <th>1</th>\n",
       "      <td>3000</td>\n",
       "      <td>Yes</td>\n",
       "      <td>0.0</td>\n",
       "      <td>Graduate</td>\n",
       "      <td>66.0</td>\n",
       "      <td>1.0</td>\n",
       "      <td>Urban</td>\n",
       "    </tr>\n",
       "    <tr>\n",
       "      <th>2</th>\n",
       "      <td>2583</td>\n",
       "      <td>Yes</td>\n",
       "      <td>2358.0</td>\n",
       "      <td>Not Graduate</td>\n",
       "      <td>120.0</td>\n",
       "      <td>1.0</td>\n",
       "      <td>Urban</td>\n",
       "    </tr>\n",
       "    <tr>\n",
       "      <th>3</th>\n",
       "      <td>6000</td>\n",
       "      <td>No</td>\n",
       "      <td>0.0</td>\n",
       "      <td>Graduate</td>\n",
       "      <td>141.0</td>\n",
       "      <td>1.0</td>\n",
       "      <td>Urban</td>\n",
       "    </tr>\n",
       "    <tr>\n",
       "      <th>4</th>\n",
       "      <td>2333</td>\n",
       "      <td>Yes</td>\n",
       "      <td>1516.0</td>\n",
       "      <td>Not Graduate</td>\n",
       "      <td>95.0</td>\n",
       "      <td>1.0</td>\n",
       "      <td>Urban</td>\n",
       "    </tr>\n",
       "    <tr>\n",
       "      <th>...</th>\n",
       "      <td>...</td>\n",
       "      <td>...</td>\n",
       "      <td>...</td>\n",
       "      <td>...</td>\n",
       "      <td>...</td>\n",
       "      <td>...</td>\n",
       "      <td>...</td>\n",
       "    </tr>\n",
       "    <tr>\n",
       "      <th>376</th>\n",
       "      <td>5703</td>\n",
       "      <td>Yes</td>\n",
       "      <td>0.0</td>\n",
       "      <td>Graduate</td>\n",
       "      <td>128.0</td>\n",
       "      <td>1.0</td>\n",
       "      <td>Urban</td>\n",
       "    </tr>\n",
       "    <tr>\n",
       "      <th>377</th>\n",
       "      <td>3232</td>\n",
       "      <td>Yes</td>\n",
       "      <td>1950.0</td>\n",
       "      <td>Graduate</td>\n",
       "      <td>108.0</td>\n",
       "      <td>1.0</td>\n",
       "      <td>Rural</td>\n",
       "    </tr>\n",
       "    <tr>\n",
       "      <th>378</th>\n",
       "      <td>2900</td>\n",
       "      <td>No</td>\n",
       "      <td>0.0</td>\n",
       "      <td>Graduate</td>\n",
       "      <td>71.0</td>\n",
       "      <td>1.0</td>\n",
       "      <td>Rural</td>\n",
       "    </tr>\n",
       "    <tr>\n",
       "      <th>379</th>\n",
       "      <td>4106</td>\n",
       "      <td>Yes</td>\n",
       "      <td>0.0</td>\n",
       "      <td>Graduate</td>\n",
       "      <td>40.0</td>\n",
       "      <td>1.0</td>\n",
       "      <td>Rural</td>\n",
       "    </tr>\n",
       "    <tr>\n",
       "      <th>380</th>\n",
       "      <td>4583</td>\n",
       "      <td>No</td>\n",
       "      <td>0.0</td>\n",
       "      <td>Graduate</td>\n",
       "      <td>133.0</td>\n",
       "      <td>0.0</td>\n",
       "      <td>Semiurban</td>\n",
       "    </tr>\n",
       "  </tbody>\n",
       "</table>\n",
       "<p>308 rows × 7 columns</p>\n",
       "</div>"
      ],
      "text/plain": [
       "     ApplicantIncome Married  CoapplicantIncome     Education  LoanAmount  \\\n",
       "0               4583     Yes             1508.0      Graduate       128.0   \n",
       "1               3000     Yes                0.0      Graduate        66.0   \n",
       "2               2583     Yes             2358.0  Not Graduate       120.0   \n",
       "3               6000      No                0.0      Graduate       141.0   \n",
       "4               2333     Yes             1516.0  Not Graduate        95.0   \n",
       "..               ...     ...                ...           ...         ...   \n",
       "376             5703     Yes                0.0      Graduate       128.0   \n",
       "377             3232     Yes             1950.0      Graduate       108.0   \n",
       "378             2900      No                0.0      Graduate        71.0   \n",
       "379             4106     Yes                0.0      Graduate        40.0   \n",
       "380             4583      No                0.0      Graduate       133.0   \n",
       "\n",
       "     Credit_History Property_Area  \n",
       "0               1.0         Rural  \n",
       "1               1.0         Urban  \n",
       "2               1.0         Urban  \n",
       "3               1.0         Urban  \n",
       "4               1.0         Urban  \n",
       "..              ...           ...  \n",
       "376             1.0         Urban  \n",
       "377             1.0         Rural  \n",
       "378             1.0         Rural  \n",
       "379             1.0         Rural  \n",
       "380             0.0     Semiurban  \n",
       "\n",
       "[308 rows x 7 columns]"
      ]
     },
     "execution_count": 120,
     "metadata": {},
     "output_type": "execute_result"
    }
   ],
   "source": [
    "X =  df[[\"ApplicantIncome\", \"Married\", \"CoapplicantIncome\", \"Education\", \"LoanAmount\", \"Credit_History\", \"Property_Area\"]]\n",
    "X\n",
    "# 3500, 0, 3000, 1, 100, 1, 2"
   ]
  },
  {
   "cell_type": "code",
   "execution_count": 121,
   "metadata": {},
   "outputs": [
    {
     "data": {
      "application/vnd.microsoft.datawrangler.viewer.v0+json": {
       "columns": [
        {
         "name": "index",
         "rawType": "int64",
         "type": "integer"
        },
        {
         "name": "Loan_Status",
         "rawType": "object",
         "type": "string"
        }
       ],
       "conversionMethod": "pd.DataFrame",
       "ref": "d3de2064-da17-4e36-9614-d0277cef7fe6",
       "rows": [
        [
         "0",
         "N"
        ],
        [
         "1",
         "Y"
        ],
        [
         "2",
         "Y"
        ],
        [
         "3",
         "Y"
        ],
        [
         "4",
         "Y"
        ],
        [
         "5",
         "Y"
        ],
        [
         "7",
         "N"
        ],
        [
         "8",
         "Y"
        ],
        [
         "9",
         "Y"
        ],
        [
         "11",
         "N"
        ],
        [
         "12",
         "N"
        ],
        [
         "14",
         "N"
        ],
        [
         "15",
         "N"
        ],
        [
         "17",
         "Y"
        ],
        [
         "18",
         "Y"
        ],
        [
         "19",
         "N"
        ],
        [
         "21",
         "N"
        ],
        [
         "22",
         "N"
        ],
        [
         "23",
         "Y"
        ],
        [
         "25",
         "Y"
        ],
        [
         "26",
         "Y"
        ],
        [
         "27",
         "N"
        ],
        [
         "28",
         "Y"
        ],
        [
         "30",
         "Y"
        ],
        [
         "33",
         "Y"
        ],
        [
         "34",
         "Y"
        ],
        [
         "35",
         "N"
        ],
        [
         "36",
         "Y"
        ],
        [
         "37",
         "Y"
        ],
        [
         "38",
         "Y"
        ],
        [
         "39",
         "N"
        ],
        [
         "40",
         "N"
        ],
        [
         "41",
         "Y"
        ],
        [
         "42",
         "Y"
        ],
        [
         "43",
         "N"
        ],
        [
         "44",
         "Y"
        ],
        [
         "45",
         "Y"
        ],
        [
         "46",
         "Y"
        ],
        [
         "47",
         "N"
        ],
        [
         "48",
         "N"
        ],
        [
         "49",
         "Y"
        ],
        [
         "50",
         "N"
        ],
        [
         "51",
         "Y"
        ],
        [
         "52",
         "Y"
        ],
        [
         "54",
         "N"
        ],
        [
         "55",
         "N"
        ],
        [
         "57",
         "Y"
        ],
        [
         "58",
         "Y"
        ],
        [
         "59",
         "Y"
        ],
        [
         "61",
         "Y"
        ]
       ],
       "shape": {
        "columns": 1,
        "rows": 308
       }
      },
      "text/html": [
       "<div>\n",
       "<style scoped>\n",
       "    .dataframe tbody tr th:only-of-type {\n",
       "        vertical-align: middle;\n",
       "    }\n",
       "\n",
       "    .dataframe tbody tr th {\n",
       "        vertical-align: top;\n",
       "    }\n",
       "\n",
       "    .dataframe thead th {\n",
       "        text-align: right;\n",
       "    }\n",
       "</style>\n",
       "<table border=\"1\" class=\"dataframe\">\n",
       "  <thead>\n",
       "    <tr style=\"text-align: right;\">\n",
       "      <th></th>\n",
       "      <th>Loan_Status</th>\n",
       "    </tr>\n",
       "  </thead>\n",
       "  <tbody>\n",
       "    <tr>\n",
       "      <th>0</th>\n",
       "      <td>N</td>\n",
       "    </tr>\n",
       "    <tr>\n",
       "      <th>1</th>\n",
       "      <td>Y</td>\n",
       "    </tr>\n",
       "    <tr>\n",
       "      <th>2</th>\n",
       "      <td>Y</td>\n",
       "    </tr>\n",
       "    <tr>\n",
       "      <th>3</th>\n",
       "      <td>Y</td>\n",
       "    </tr>\n",
       "    <tr>\n",
       "      <th>4</th>\n",
       "      <td>Y</td>\n",
       "    </tr>\n",
       "    <tr>\n",
       "      <th>...</th>\n",
       "      <td>...</td>\n",
       "    </tr>\n",
       "    <tr>\n",
       "      <th>376</th>\n",
       "      <td>Y</td>\n",
       "    </tr>\n",
       "    <tr>\n",
       "      <th>377</th>\n",
       "      <td>Y</td>\n",
       "    </tr>\n",
       "    <tr>\n",
       "      <th>378</th>\n",
       "      <td>Y</td>\n",
       "    </tr>\n",
       "    <tr>\n",
       "      <th>379</th>\n",
       "      <td>Y</td>\n",
       "    </tr>\n",
       "    <tr>\n",
       "      <th>380</th>\n",
       "      <td>N</td>\n",
       "    </tr>\n",
       "  </tbody>\n",
       "</table>\n",
       "<p>308 rows × 1 columns</p>\n",
       "</div>"
      ],
      "text/plain": [
       "    Loan_Status\n",
       "0             N\n",
       "1             Y\n",
       "2             Y\n",
       "3             Y\n",
       "4             Y\n",
       "..          ...\n",
       "376           Y\n",
       "377           Y\n",
       "378           Y\n",
       "379           Y\n",
       "380           N\n",
       "\n",
       "[308 rows x 1 columns]"
      ]
     },
     "execution_count": 121,
     "metadata": {},
     "output_type": "execute_result"
    }
   ],
   "source": [
    "y = df[[\"Loan_Status\"]]\n",
    "y"
   ]
  },
  {
   "cell_type": "code",
   "execution_count": 122,
   "metadata": {},
   "outputs": [],
   "source": [
    "from sklearn.preprocessing import LabelEncoder\n",
    "label_encoder = LabelEncoder()"
   ]
  },
  {
   "cell_type": "code",
   "execution_count": 123,
   "metadata": {},
   "outputs": [
    {
     "name": "stderr",
     "output_type": "stream",
     "text": [
      "/var/folders/03/zvq_lt1s2gd346g4982350840000gn/T/ipykernel_33282/2953384967.py:1: SettingWithCopyWarning: \n",
      "A value is trying to be set on a copy of a slice from a DataFrame.\n",
      "Try using .loc[row_indexer,col_indexer] = value instead\n",
      "\n",
      "See the caveats in the documentation: https://pandas.pydata.org/pandas-docs/stable/user_guide/indexing.html#returning-a-view-versus-a-copy\n",
      "  y[\"Loan_Status\"] = label_encoder.fit_transform(y[\"Loan_Status\"])\n"
     ]
    },
    {
     "data": {
      "application/vnd.microsoft.datawrangler.viewer.v0+json": {
       "columns": [
        {
         "name": "index",
         "rawType": "int64",
         "type": "integer"
        },
        {
         "name": "Loan_Status",
         "rawType": "int64",
         "type": "integer"
        }
       ],
       "conversionMethod": "pd.DataFrame",
       "ref": "b52eecb5-23e1-4a79-8c39-4e8353af0ef0",
       "rows": [
        [
         "0",
         "0"
        ],
        [
         "1",
         "1"
        ],
        [
         "2",
         "1"
        ],
        [
         "3",
         "1"
        ],
        [
         "4",
         "1"
        ],
        [
         "5",
         "1"
        ],
        [
         "7",
         "0"
        ],
        [
         "8",
         "1"
        ],
        [
         "9",
         "1"
        ],
        [
         "11",
         "0"
        ],
        [
         "12",
         "0"
        ],
        [
         "14",
         "0"
        ],
        [
         "15",
         "0"
        ],
        [
         "17",
         "1"
        ],
        [
         "18",
         "1"
        ],
        [
         "19",
         "0"
        ],
        [
         "21",
         "0"
        ],
        [
         "22",
         "0"
        ],
        [
         "23",
         "1"
        ],
        [
         "25",
         "1"
        ],
        [
         "26",
         "1"
        ],
        [
         "27",
         "0"
        ],
        [
         "28",
         "1"
        ],
        [
         "30",
         "1"
        ],
        [
         "33",
         "1"
        ],
        [
         "34",
         "1"
        ],
        [
         "35",
         "0"
        ],
        [
         "36",
         "1"
        ],
        [
         "37",
         "1"
        ],
        [
         "38",
         "1"
        ],
        [
         "39",
         "0"
        ],
        [
         "40",
         "0"
        ],
        [
         "41",
         "1"
        ],
        [
         "42",
         "1"
        ],
        [
         "43",
         "0"
        ],
        [
         "44",
         "1"
        ],
        [
         "45",
         "1"
        ],
        [
         "46",
         "1"
        ],
        [
         "47",
         "0"
        ],
        [
         "48",
         "0"
        ],
        [
         "49",
         "1"
        ],
        [
         "50",
         "0"
        ],
        [
         "51",
         "1"
        ],
        [
         "52",
         "1"
        ],
        [
         "54",
         "0"
        ],
        [
         "55",
         "0"
        ],
        [
         "57",
         "1"
        ],
        [
         "58",
         "1"
        ],
        [
         "59",
         "1"
        ],
        [
         "61",
         "1"
        ]
       ],
       "shape": {
        "columns": 1,
        "rows": 308
       }
      },
      "text/html": [
       "<div>\n",
       "<style scoped>\n",
       "    .dataframe tbody tr th:only-of-type {\n",
       "        vertical-align: middle;\n",
       "    }\n",
       "\n",
       "    .dataframe tbody tr th {\n",
       "        vertical-align: top;\n",
       "    }\n",
       "\n",
       "    .dataframe thead th {\n",
       "        text-align: right;\n",
       "    }\n",
       "</style>\n",
       "<table border=\"1\" class=\"dataframe\">\n",
       "  <thead>\n",
       "    <tr style=\"text-align: right;\">\n",
       "      <th></th>\n",
       "      <th>Loan_Status</th>\n",
       "    </tr>\n",
       "  </thead>\n",
       "  <tbody>\n",
       "    <tr>\n",
       "      <th>0</th>\n",
       "      <td>0</td>\n",
       "    </tr>\n",
       "    <tr>\n",
       "      <th>1</th>\n",
       "      <td>1</td>\n",
       "    </tr>\n",
       "    <tr>\n",
       "      <th>2</th>\n",
       "      <td>1</td>\n",
       "    </tr>\n",
       "    <tr>\n",
       "      <th>3</th>\n",
       "      <td>1</td>\n",
       "    </tr>\n",
       "    <tr>\n",
       "      <th>4</th>\n",
       "      <td>1</td>\n",
       "    </tr>\n",
       "    <tr>\n",
       "      <th>...</th>\n",
       "      <td>...</td>\n",
       "    </tr>\n",
       "    <tr>\n",
       "      <th>376</th>\n",
       "      <td>1</td>\n",
       "    </tr>\n",
       "    <tr>\n",
       "      <th>377</th>\n",
       "      <td>1</td>\n",
       "    </tr>\n",
       "    <tr>\n",
       "      <th>378</th>\n",
       "      <td>1</td>\n",
       "    </tr>\n",
       "    <tr>\n",
       "      <th>379</th>\n",
       "      <td>1</td>\n",
       "    </tr>\n",
       "    <tr>\n",
       "      <th>380</th>\n",
       "      <td>0</td>\n",
       "    </tr>\n",
       "  </tbody>\n",
       "</table>\n",
       "<p>308 rows × 1 columns</p>\n",
       "</div>"
      ],
      "text/plain": [
       "     Loan_Status\n",
       "0              0\n",
       "1              1\n",
       "2              1\n",
       "3              1\n",
       "4              1\n",
       "..           ...\n",
       "376            1\n",
       "377            1\n",
       "378            1\n",
       "379            1\n",
       "380            0\n",
       "\n",
       "[308 rows x 1 columns]"
      ]
     },
     "execution_count": 123,
     "metadata": {},
     "output_type": "execute_result"
    }
   ],
   "source": [
    "y[\"Loan_Status\"] = label_encoder.fit_transform(y[\"Loan_Status\"])\n",
    "y"
   ]
  },
  {
   "cell_type": "code",
   "execution_count": 124,
   "metadata": {},
   "outputs": [
    {
     "data": {
      "text/plain": [
       "array(['N', 'Y'], dtype=object)"
      ]
     },
     "execution_count": 124,
     "metadata": {},
     "output_type": "execute_result"
    }
   ],
   "source": [
    "label_encoder.classes_\n",
    "# N = 0, Y = 1"
   ]
  },
  {
   "cell_type": "code",
   "execution_count": 125,
   "metadata": {},
   "outputs": [
    {
     "name": "stderr",
     "output_type": "stream",
     "text": [
      "/var/folders/03/zvq_lt1s2gd346g4982350840000gn/T/ipykernel_33282/867553577.py:1: SettingWithCopyWarning: \n",
      "A value is trying to be set on a copy of a slice from a DataFrame.\n",
      "Try using .loc[row_indexer,col_indexer] = value instead\n",
      "\n",
      "See the caveats in the documentation: https://pandas.pydata.org/pandas-docs/stable/user_guide/indexing.html#returning-a-view-versus-a-copy\n",
      "  X[\"Married\"] = label_encoder.fit_transform(X[\"Married\"])\n"
     ]
    },
    {
     "data": {
      "application/vnd.microsoft.datawrangler.viewer.v0+json": {
       "columns": [
        {
         "name": "index",
         "rawType": "int64",
         "type": "integer"
        },
        {
         "name": "ApplicantIncome",
         "rawType": "int64",
         "type": "integer"
        },
        {
         "name": "Married",
         "rawType": "int64",
         "type": "integer"
        },
        {
         "name": "CoapplicantIncome",
         "rawType": "float64",
         "type": "float"
        },
        {
         "name": "Education",
         "rawType": "object",
         "type": "string"
        },
        {
         "name": "LoanAmount",
         "rawType": "float64",
         "type": "float"
        },
        {
         "name": "Credit_History",
         "rawType": "float64",
         "type": "float"
        },
        {
         "name": "Property_Area",
         "rawType": "object",
         "type": "string"
        }
       ],
       "conversionMethod": "pd.DataFrame",
       "ref": "2534435f-4629-4517-8011-997206e7aafb",
       "rows": [
        [
         "0",
         "4583",
         "1",
         "1508.0",
         "Graduate",
         "128.0",
         "1.0",
         "Rural"
        ],
        [
         "1",
         "3000",
         "1",
         "0.0",
         "Graduate",
         "66.0",
         "1.0",
         "Urban"
        ],
        [
         "2",
         "2583",
         "1",
         "2358.0",
         "Not Graduate",
         "120.0",
         "1.0",
         "Urban"
        ],
        [
         "3",
         "6000",
         "0",
         "0.0",
         "Graduate",
         "141.0",
         "1.0",
         "Urban"
        ],
        [
         "4",
         "2333",
         "1",
         "1516.0",
         "Not Graduate",
         "95.0",
         "1.0",
         "Urban"
        ],
        [
         "5",
         "3200",
         "1",
         "700.0",
         "Graduate",
         "70.0",
         "1.0",
         "Urban"
        ],
        [
         "7",
         "1853",
         "0",
         "2840.0",
         "Graduate",
         "114.0",
         "1.0",
         "Rural"
        ],
        [
         "8",
         "1299",
         "1",
         "1086.0",
         "Graduate",
         "17.0",
         "1.0",
         "Urban"
        ],
        [
         "9",
         "4950",
         "0",
         "0.0",
         "Graduate",
         "125.0",
         "1.0",
         "Urban"
        ],
        [
         "11",
         "3510",
         "0",
         "0.0",
         "Graduate",
         "76.0",
         "0.0",
         "Urban"
        ],
        [
         "12",
         "4887",
         "1",
         "0.0",
         "Not Graduate",
         "133.0",
         "1.0",
         "Rural"
        ],
        [
         "14",
         "7660",
         "1",
         "0.0",
         "Not Graduate",
         "104.0",
         "0.0",
         "Urban"
        ],
        [
         "15",
         "2600",
         "1",
         "1911.0",
         "Not Graduate",
         "116.0",
         "0.0",
         "Semiurban"
        ],
        [
         "17",
         "2799",
         "1",
         "2253.0",
         "Graduate",
         "122.0",
         "1.0",
         "Semiurban"
        ],
        [
         "18",
         "4226",
         "1",
         "1040.0",
         "Not Graduate",
         "110.0",
         "1.0",
         "Urban"
        ],
        [
         "19",
         "1442",
         "0",
         "0.0",
         "Not Graduate",
         "35.0",
         "1.0",
         "Urban"
        ],
        [
         "21",
         "3167",
         "0",
         "0.0",
         "Graduate",
         "74.0",
         "1.0",
         "Urban"
        ],
        [
         "22",
         "4692",
         "0",
         "0.0",
         "Graduate",
         "106.0",
         "1.0",
         "Rural"
        ],
        [
         "23",
         "3500",
         "1",
         "1667.0",
         "Graduate",
         "114.0",
         "1.0",
         "Semiurban"
        ],
        [
         "25",
         "3667",
         "1",
         "1459.0",
         "Graduate",
         "144.0",
         "1.0",
         "Semiurban"
        ],
        [
         "26",
         "3748",
         "0",
         "1668.0",
         "Not Graduate",
         "110.0",
         "1.0",
         "Semiurban"
        ],
        [
         "27",
         "3600",
         "0",
         "0.0",
         "Graduate",
         "80.0",
         "1.0",
         "Urban"
        ],
        [
         "28",
         "1800",
         "0",
         "1213.0",
         "Graduate",
         "47.0",
         "1.0",
         "Urban"
        ],
        [
         "30",
         "3941",
         "1",
         "2336.0",
         "Graduate",
         "134.0",
         "1.0",
         "Semiurban"
        ],
        [
         "33",
         "5649",
         "1",
         "0.0",
         "Graduate",
         "44.0",
         "1.0",
         "Urban"
        ],
        [
         "34",
         "5821",
         "1",
         "0.0",
         "Graduate",
         "144.0",
         "1.0",
         "Urban"
        ],
        [
         "35",
         "2645",
         "1",
         "3440.0",
         "Graduate",
         "120.0",
         "0.0",
         "Urban"
        ],
        [
         "36",
         "4000",
         "0",
         "2275.0",
         "Graduate",
         "144.0",
         "1.0",
         "Semiurban"
        ],
        [
         "37",
         "1928",
         "1",
         "1644.0",
         "Not Graduate",
         "100.0",
         "1.0",
         "Semiurban"
        ],
        [
         "38",
         "3086",
         "0",
         "0.0",
         "Graduate",
         "120.0",
         "1.0",
         "Semiurban"
        ],
        [
         "39",
         "4230",
         "0",
         "0.0",
         "Graduate",
         "112.0",
         "1.0",
         "Semiurban"
        ],
        [
         "40",
         "4616",
         "1",
         "0.0",
         "Graduate",
         "134.0",
         "1.0",
         "Urban"
        ],
        [
         "41",
         "2708",
         "1",
         "1167.0",
         "Graduate",
         "97.0",
         "1.0",
         "Semiurban"
        ],
        [
         "42",
         "2132",
         "1",
         "1591.0",
         "Graduate",
         "96.0",
         "1.0",
         "Semiurban"
        ],
        [
         "43",
         "3366",
         "1",
         "2200.0",
         "Graduate",
         "135.0",
         "1.0",
         "Rural"
        ],
        [
         "44",
         "3357",
         "1",
         "2859.0",
         "Not Graduate",
         "144.0",
         "1.0",
         "Urban"
        ],
        [
         "45",
         "2500",
         "1",
         "3796.0",
         "Graduate",
         "120.0",
         "1.0",
         "Urban"
        ],
        [
         "46",
         "3029",
         "1",
         "0.0",
         "Graduate",
         "99.0",
         "1.0",
         "Urban"
        ],
        [
         "47",
         "4166",
         "0",
         "0.0",
         "Graduate",
         "116.0",
         "0.0",
         "Semiurban"
        ],
        [
         "48",
         "3200",
         "0",
         "2254.0",
         "Not Graduate",
         "126.0",
         "0.0",
         "Urban"
        ],
        [
         "49",
         "7100",
         "1",
         "0.0",
         "Not Graduate",
         "125.0",
         "1.0",
         "Urban"
        ],
        [
         "50",
         "4300",
         "0",
         "0.0",
         "Graduate",
         "136.0",
         "0.0",
         "Semiurban"
        ],
        [
         "51",
         "1875",
         "1",
         "1875.0",
         "Not Graduate",
         "97.0",
         "1.0",
         "Semiurban"
        ],
        [
         "52",
         "3500",
         "0",
         "0.0",
         "Graduate",
         "81.0",
         "1.0",
         "Semiurban"
        ],
        [
         "54",
         "3750",
         "0",
         "0.0",
         "Graduate",
         "113.0",
         "1.0",
         "Urban"
        ],
        [
         "55",
         "1000",
         "1",
         "3022.0",
         "Graduate",
         "110.0",
         "1.0",
         "Urban"
        ],
        [
         "57",
         "3846",
         "0",
         "0.0",
         "Graduate",
         "111.0",
         "1.0",
         "Semiurban"
        ],
        [
         "58",
         "3988",
         "1",
         "0.0",
         "Graduate",
         "50.0",
         "1.0",
         "Urban"
        ],
        [
         "59",
         "2366",
         "0",
         "2531.0",
         "Graduate",
         "136.0",
         "1.0",
         "Semiurban"
        ],
        [
         "61",
         "2500",
         "1",
         "2118.0",
         "Graduate",
         "104.0",
         "1.0",
         "Semiurban"
        ]
       ],
       "shape": {
        "columns": 7,
        "rows": 308
       }
      },
      "text/html": [
       "<div>\n",
       "<style scoped>\n",
       "    .dataframe tbody tr th:only-of-type {\n",
       "        vertical-align: middle;\n",
       "    }\n",
       "\n",
       "    .dataframe tbody tr th {\n",
       "        vertical-align: top;\n",
       "    }\n",
       "\n",
       "    .dataframe thead th {\n",
       "        text-align: right;\n",
       "    }\n",
       "</style>\n",
       "<table border=\"1\" class=\"dataframe\">\n",
       "  <thead>\n",
       "    <tr style=\"text-align: right;\">\n",
       "      <th></th>\n",
       "      <th>ApplicantIncome</th>\n",
       "      <th>Married</th>\n",
       "      <th>CoapplicantIncome</th>\n",
       "      <th>Education</th>\n",
       "      <th>LoanAmount</th>\n",
       "      <th>Credit_History</th>\n",
       "      <th>Property_Area</th>\n",
       "    </tr>\n",
       "  </thead>\n",
       "  <tbody>\n",
       "    <tr>\n",
       "      <th>0</th>\n",
       "      <td>4583</td>\n",
       "      <td>1</td>\n",
       "      <td>1508.0</td>\n",
       "      <td>Graduate</td>\n",
       "      <td>128.0</td>\n",
       "      <td>1.0</td>\n",
       "      <td>Rural</td>\n",
       "    </tr>\n",
       "    <tr>\n",
       "      <th>1</th>\n",
       "      <td>3000</td>\n",
       "      <td>1</td>\n",
       "      <td>0.0</td>\n",
       "      <td>Graduate</td>\n",
       "      <td>66.0</td>\n",
       "      <td>1.0</td>\n",
       "      <td>Urban</td>\n",
       "    </tr>\n",
       "    <tr>\n",
       "      <th>2</th>\n",
       "      <td>2583</td>\n",
       "      <td>1</td>\n",
       "      <td>2358.0</td>\n",
       "      <td>Not Graduate</td>\n",
       "      <td>120.0</td>\n",
       "      <td>1.0</td>\n",
       "      <td>Urban</td>\n",
       "    </tr>\n",
       "    <tr>\n",
       "      <th>3</th>\n",
       "      <td>6000</td>\n",
       "      <td>0</td>\n",
       "      <td>0.0</td>\n",
       "      <td>Graduate</td>\n",
       "      <td>141.0</td>\n",
       "      <td>1.0</td>\n",
       "      <td>Urban</td>\n",
       "    </tr>\n",
       "    <tr>\n",
       "      <th>4</th>\n",
       "      <td>2333</td>\n",
       "      <td>1</td>\n",
       "      <td>1516.0</td>\n",
       "      <td>Not Graduate</td>\n",
       "      <td>95.0</td>\n",
       "      <td>1.0</td>\n",
       "      <td>Urban</td>\n",
       "    </tr>\n",
       "    <tr>\n",
       "      <th>...</th>\n",
       "      <td>...</td>\n",
       "      <td>...</td>\n",
       "      <td>...</td>\n",
       "      <td>...</td>\n",
       "      <td>...</td>\n",
       "      <td>...</td>\n",
       "      <td>...</td>\n",
       "    </tr>\n",
       "    <tr>\n",
       "      <th>376</th>\n",
       "      <td>5703</td>\n",
       "      <td>1</td>\n",
       "      <td>0.0</td>\n",
       "      <td>Graduate</td>\n",
       "      <td>128.0</td>\n",
       "      <td>1.0</td>\n",
       "      <td>Urban</td>\n",
       "    </tr>\n",
       "    <tr>\n",
       "      <th>377</th>\n",
       "      <td>3232</td>\n",
       "      <td>1</td>\n",
       "      <td>1950.0</td>\n",
       "      <td>Graduate</td>\n",
       "      <td>108.0</td>\n",
       "      <td>1.0</td>\n",
       "      <td>Rural</td>\n",
       "    </tr>\n",
       "    <tr>\n",
       "      <th>378</th>\n",
       "      <td>2900</td>\n",
       "      <td>0</td>\n",
       "      <td>0.0</td>\n",
       "      <td>Graduate</td>\n",
       "      <td>71.0</td>\n",
       "      <td>1.0</td>\n",
       "      <td>Rural</td>\n",
       "    </tr>\n",
       "    <tr>\n",
       "      <th>379</th>\n",
       "      <td>4106</td>\n",
       "      <td>1</td>\n",
       "      <td>0.0</td>\n",
       "      <td>Graduate</td>\n",
       "      <td>40.0</td>\n",
       "      <td>1.0</td>\n",
       "      <td>Rural</td>\n",
       "    </tr>\n",
       "    <tr>\n",
       "      <th>380</th>\n",
       "      <td>4583</td>\n",
       "      <td>0</td>\n",
       "      <td>0.0</td>\n",
       "      <td>Graduate</td>\n",
       "      <td>133.0</td>\n",
       "      <td>0.0</td>\n",
       "      <td>Semiurban</td>\n",
       "    </tr>\n",
       "  </tbody>\n",
       "</table>\n",
       "<p>308 rows × 7 columns</p>\n",
       "</div>"
      ],
      "text/plain": [
       "     ApplicantIncome  Married  CoapplicantIncome     Education  LoanAmount  \\\n",
       "0               4583        1             1508.0      Graduate       128.0   \n",
       "1               3000        1                0.0      Graduate        66.0   \n",
       "2               2583        1             2358.0  Not Graduate       120.0   \n",
       "3               6000        0                0.0      Graduate       141.0   \n",
       "4               2333        1             1516.0  Not Graduate        95.0   \n",
       "..               ...      ...                ...           ...         ...   \n",
       "376             5703        1                0.0      Graduate       128.0   \n",
       "377             3232        1             1950.0      Graduate       108.0   \n",
       "378             2900        0                0.0      Graduate        71.0   \n",
       "379             4106        1                0.0      Graduate        40.0   \n",
       "380             4583        0                0.0      Graduate       133.0   \n",
       "\n",
       "     Credit_History Property_Area  \n",
       "0               1.0         Rural  \n",
       "1               1.0         Urban  \n",
       "2               1.0         Urban  \n",
       "3               1.0         Urban  \n",
       "4               1.0         Urban  \n",
       "..              ...           ...  \n",
       "376             1.0         Urban  \n",
       "377             1.0         Rural  \n",
       "378             1.0         Rural  \n",
       "379             1.0         Rural  \n",
       "380             0.0     Semiurban  \n",
       "\n",
       "[308 rows x 7 columns]"
      ]
     },
     "execution_count": 125,
     "metadata": {},
     "output_type": "execute_result"
    }
   ],
   "source": [
    "X[\"Married\"] = label_encoder.fit_transform(X[\"Married\"])\n",
    "X"
   ]
  },
  {
   "cell_type": "code",
   "execution_count": 126,
   "metadata": {},
   "outputs": [
    {
     "data": {
      "text/plain": [
       "array(['No', 'Yes'], dtype=object)"
      ]
     },
     "execution_count": 126,
     "metadata": {},
     "output_type": "execute_result"
    }
   ],
   "source": [
    "label_encoder.classes_\n",
    "# No = 0, Yes = 1"
   ]
  },
  {
   "cell_type": "code",
   "execution_count": 127,
   "metadata": {},
   "outputs": [
    {
     "name": "stderr",
     "output_type": "stream",
     "text": [
      "/var/folders/03/zvq_lt1s2gd346g4982350840000gn/T/ipykernel_33282/606866688.py:1: SettingWithCopyWarning: \n",
      "A value is trying to be set on a copy of a slice from a DataFrame.\n",
      "Try using .loc[row_indexer,col_indexer] = value instead\n",
      "\n",
      "See the caveats in the documentation: https://pandas.pydata.org/pandas-docs/stable/user_guide/indexing.html#returning-a-view-versus-a-copy\n",
      "  X[\"Education\"] = label_encoder.fit_transform(X[\"Education\"])\n"
     ]
    },
    {
     "data": {
      "application/vnd.microsoft.datawrangler.viewer.v0+json": {
       "columns": [
        {
         "name": "index",
         "rawType": "int64",
         "type": "integer"
        },
        {
         "name": "ApplicantIncome",
         "rawType": "int64",
         "type": "integer"
        },
        {
         "name": "Married",
         "rawType": "int64",
         "type": "integer"
        },
        {
         "name": "CoapplicantIncome",
         "rawType": "float64",
         "type": "float"
        },
        {
         "name": "Education",
         "rawType": "int64",
         "type": "integer"
        },
        {
         "name": "LoanAmount",
         "rawType": "float64",
         "type": "float"
        },
        {
         "name": "Credit_History",
         "rawType": "float64",
         "type": "float"
        },
        {
         "name": "Property_Area",
         "rawType": "object",
         "type": "string"
        }
       ],
       "conversionMethod": "pd.DataFrame",
       "ref": "5a02866b-519e-4777-97a5-68fd435ed161",
       "rows": [
        [
         "0",
         "4583",
         "1",
         "1508.0",
         "0",
         "128.0",
         "1.0",
         "Rural"
        ],
        [
         "1",
         "3000",
         "1",
         "0.0",
         "0",
         "66.0",
         "1.0",
         "Urban"
        ],
        [
         "2",
         "2583",
         "1",
         "2358.0",
         "1",
         "120.0",
         "1.0",
         "Urban"
        ],
        [
         "3",
         "6000",
         "0",
         "0.0",
         "0",
         "141.0",
         "1.0",
         "Urban"
        ],
        [
         "4",
         "2333",
         "1",
         "1516.0",
         "1",
         "95.0",
         "1.0",
         "Urban"
        ],
        [
         "5",
         "3200",
         "1",
         "700.0",
         "0",
         "70.0",
         "1.0",
         "Urban"
        ],
        [
         "7",
         "1853",
         "0",
         "2840.0",
         "0",
         "114.0",
         "1.0",
         "Rural"
        ],
        [
         "8",
         "1299",
         "1",
         "1086.0",
         "0",
         "17.0",
         "1.0",
         "Urban"
        ],
        [
         "9",
         "4950",
         "0",
         "0.0",
         "0",
         "125.0",
         "1.0",
         "Urban"
        ],
        [
         "11",
         "3510",
         "0",
         "0.0",
         "0",
         "76.0",
         "0.0",
         "Urban"
        ],
        [
         "12",
         "4887",
         "1",
         "0.0",
         "1",
         "133.0",
         "1.0",
         "Rural"
        ],
        [
         "14",
         "7660",
         "1",
         "0.0",
         "1",
         "104.0",
         "0.0",
         "Urban"
        ],
        [
         "15",
         "2600",
         "1",
         "1911.0",
         "1",
         "116.0",
         "0.0",
         "Semiurban"
        ],
        [
         "17",
         "2799",
         "1",
         "2253.0",
         "0",
         "122.0",
         "1.0",
         "Semiurban"
        ],
        [
         "18",
         "4226",
         "1",
         "1040.0",
         "1",
         "110.0",
         "1.0",
         "Urban"
        ],
        [
         "19",
         "1442",
         "0",
         "0.0",
         "1",
         "35.0",
         "1.0",
         "Urban"
        ],
        [
         "21",
         "3167",
         "0",
         "0.0",
         "0",
         "74.0",
         "1.0",
         "Urban"
        ],
        [
         "22",
         "4692",
         "0",
         "0.0",
         "0",
         "106.0",
         "1.0",
         "Rural"
        ],
        [
         "23",
         "3500",
         "1",
         "1667.0",
         "0",
         "114.0",
         "1.0",
         "Semiurban"
        ],
        [
         "25",
         "3667",
         "1",
         "1459.0",
         "0",
         "144.0",
         "1.0",
         "Semiurban"
        ],
        [
         "26",
         "3748",
         "0",
         "1668.0",
         "1",
         "110.0",
         "1.0",
         "Semiurban"
        ],
        [
         "27",
         "3600",
         "0",
         "0.0",
         "0",
         "80.0",
         "1.0",
         "Urban"
        ],
        [
         "28",
         "1800",
         "0",
         "1213.0",
         "0",
         "47.0",
         "1.0",
         "Urban"
        ],
        [
         "30",
         "3941",
         "1",
         "2336.0",
         "0",
         "134.0",
         "1.0",
         "Semiurban"
        ],
        [
         "33",
         "5649",
         "1",
         "0.0",
         "0",
         "44.0",
         "1.0",
         "Urban"
        ],
        [
         "34",
         "5821",
         "1",
         "0.0",
         "0",
         "144.0",
         "1.0",
         "Urban"
        ],
        [
         "35",
         "2645",
         "1",
         "3440.0",
         "0",
         "120.0",
         "0.0",
         "Urban"
        ],
        [
         "36",
         "4000",
         "0",
         "2275.0",
         "0",
         "144.0",
         "1.0",
         "Semiurban"
        ],
        [
         "37",
         "1928",
         "1",
         "1644.0",
         "1",
         "100.0",
         "1.0",
         "Semiurban"
        ],
        [
         "38",
         "3086",
         "0",
         "0.0",
         "0",
         "120.0",
         "1.0",
         "Semiurban"
        ],
        [
         "39",
         "4230",
         "0",
         "0.0",
         "0",
         "112.0",
         "1.0",
         "Semiurban"
        ],
        [
         "40",
         "4616",
         "1",
         "0.0",
         "0",
         "134.0",
         "1.0",
         "Urban"
        ],
        [
         "41",
         "2708",
         "1",
         "1167.0",
         "0",
         "97.0",
         "1.0",
         "Semiurban"
        ],
        [
         "42",
         "2132",
         "1",
         "1591.0",
         "0",
         "96.0",
         "1.0",
         "Semiurban"
        ],
        [
         "43",
         "3366",
         "1",
         "2200.0",
         "0",
         "135.0",
         "1.0",
         "Rural"
        ],
        [
         "44",
         "3357",
         "1",
         "2859.0",
         "1",
         "144.0",
         "1.0",
         "Urban"
        ],
        [
         "45",
         "2500",
         "1",
         "3796.0",
         "0",
         "120.0",
         "1.0",
         "Urban"
        ],
        [
         "46",
         "3029",
         "1",
         "0.0",
         "0",
         "99.0",
         "1.0",
         "Urban"
        ],
        [
         "47",
         "4166",
         "0",
         "0.0",
         "0",
         "116.0",
         "0.0",
         "Semiurban"
        ],
        [
         "48",
         "3200",
         "0",
         "2254.0",
         "1",
         "126.0",
         "0.0",
         "Urban"
        ],
        [
         "49",
         "7100",
         "1",
         "0.0",
         "1",
         "125.0",
         "1.0",
         "Urban"
        ],
        [
         "50",
         "4300",
         "0",
         "0.0",
         "0",
         "136.0",
         "0.0",
         "Semiurban"
        ],
        [
         "51",
         "1875",
         "1",
         "1875.0",
         "1",
         "97.0",
         "1.0",
         "Semiurban"
        ],
        [
         "52",
         "3500",
         "0",
         "0.0",
         "0",
         "81.0",
         "1.0",
         "Semiurban"
        ],
        [
         "54",
         "3750",
         "0",
         "0.0",
         "0",
         "113.0",
         "1.0",
         "Urban"
        ],
        [
         "55",
         "1000",
         "1",
         "3022.0",
         "0",
         "110.0",
         "1.0",
         "Urban"
        ],
        [
         "57",
         "3846",
         "0",
         "0.0",
         "0",
         "111.0",
         "1.0",
         "Semiurban"
        ],
        [
         "58",
         "3988",
         "1",
         "0.0",
         "0",
         "50.0",
         "1.0",
         "Urban"
        ],
        [
         "59",
         "2366",
         "0",
         "2531.0",
         "0",
         "136.0",
         "1.0",
         "Semiurban"
        ],
        [
         "61",
         "2500",
         "1",
         "2118.0",
         "0",
         "104.0",
         "1.0",
         "Semiurban"
        ]
       ],
       "shape": {
        "columns": 7,
        "rows": 308
       }
      },
      "text/html": [
       "<div>\n",
       "<style scoped>\n",
       "    .dataframe tbody tr th:only-of-type {\n",
       "        vertical-align: middle;\n",
       "    }\n",
       "\n",
       "    .dataframe tbody tr th {\n",
       "        vertical-align: top;\n",
       "    }\n",
       "\n",
       "    .dataframe thead th {\n",
       "        text-align: right;\n",
       "    }\n",
       "</style>\n",
       "<table border=\"1\" class=\"dataframe\">\n",
       "  <thead>\n",
       "    <tr style=\"text-align: right;\">\n",
       "      <th></th>\n",
       "      <th>ApplicantIncome</th>\n",
       "      <th>Married</th>\n",
       "      <th>CoapplicantIncome</th>\n",
       "      <th>Education</th>\n",
       "      <th>LoanAmount</th>\n",
       "      <th>Credit_History</th>\n",
       "      <th>Property_Area</th>\n",
       "    </tr>\n",
       "  </thead>\n",
       "  <tbody>\n",
       "    <tr>\n",
       "      <th>0</th>\n",
       "      <td>4583</td>\n",
       "      <td>1</td>\n",
       "      <td>1508.0</td>\n",
       "      <td>0</td>\n",
       "      <td>128.0</td>\n",
       "      <td>1.0</td>\n",
       "      <td>Rural</td>\n",
       "    </tr>\n",
       "    <tr>\n",
       "      <th>1</th>\n",
       "      <td>3000</td>\n",
       "      <td>1</td>\n",
       "      <td>0.0</td>\n",
       "      <td>0</td>\n",
       "      <td>66.0</td>\n",
       "      <td>1.0</td>\n",
       "      <td>Urban</td>\n",
       "    </tr>\n",
       "    <tr>\n",
       "      <th>2</th>\n",
       "      <td>2583</td>\n",
       "      <td>1</td>\n",
       "      <td>2358.0</td>\n",
       "      <td>1</td>\n",
       "      <td>120.0</td>\n",
       "      <td>1.0</td>\n",
       "      <td>Urban</td>\n",
       "    </tr>\n",
       "    <tr>\n",
       "      <th>3</th>\n",
       "      <td>6000</td>\n",
       "      <td>0</td>\n",
       "      <td>0.0</td>\n",
       "      <td>0</td>\n",
       "      <td>141.0</td>\n",
       "      <td>1.0</td>\n",
       "      <td>Urban</td>\n",
       "    </tr>\n",
       "    <tr>\n",
       "      <th>4</th>\n",
       "      <td>2333</td>\n",
       "      <td>1</td>\n",
       "      <td>1516.0</td>\n",
       "      <td>1</td>\n",
       "      <td>95.0</td>\n",
       "      <td>1.0</td>\n",
       "      <td>Urban</td>\n",
       "    </tr>\n",
       "    <tr>\n",
       "      <th>...</th>\n",
       "      <td>...</td>\n",
       "      <td>...</td>\n",
       "      <td>...</td>\n",
       "      <td>...</td>\n",
       "      <td>...</td>\n",
       "      <td>...</td>\n",
       "      <td>...</td>\n",
       "    </tr>\n",
       "    <tr>\n",
       "      <th>376</th>\n",
       "      <td>5703</td>\n",
       "      <td>1</td>\n",
       "      <td>0.0</td>\n",
       "      <td>0</td>\n",
       "      <td>128.0</td>\n",
       "      <td>1.0</td>\n",
       "      <td>Urban</td>\n",
       "    </tr>\n",
       "    <tr>\n",
       "      <th>377</th>\n",
       "      <td>3232</td>\n",
       "      <td>1</td>\n",
       "      <td>1950.0</td>\n",
       "      <td>0</td>\n",
       "      <td>108.0</td>\n",
       "      <td>1.0</td>\n",
       "      <td>Rural</td>\n",
       "    </tr>\n",
       "    <tr>\n",
       "      <th>378</th>\n",
       "      <td>2900</td>\n",
       "      <td>0</td>\n",
       "      <td>0.0</td>\n",
       "      <td>0</td>\n",
       "      <td>71.0</td>\n",
       "      <td>1.0</td>\n",
       "      <td>Rural</td>\n",
       "    </tr>\n",
       "    <tr>\n",
       "      <th>379</th>\n",
       "      <td>4106</td>\n",
       "      <td>1</td>\n",
       "      <td>0.0</td>\n",
       "      <td>0</td>\n",
       "      <td>40.0</td>\n",
       "      <td>1.0</td>\n",
       "      <td>Rural</td>\n",
       "    </tr>\n",
       "    <tr>\n",
       "      <th>380</th>\n",
       "      <td>4583</td>\n",
       "      <td>0</td>\n",
       "      <td>0.0</td>\n",
       "      <td>0</td>\n",
       "      <td>133.0</td>\n",
       "      <td>0.0</td>\n",
       "      <td>Semiurban</td>\n",
       "    </tr>\n",
       "  </tbody>\n",
       "</table>\n",
       "<p>308 rows × 7 columns</p>\n",
       "</div>"
      ],
      "text/plain": [
       "     ApplicantIncome  Married  CoapplicantIncome  Education  LoanAmount  \\\n",
       "0               4583        1             1508.0          0       128.0   \n",
       "1               3000        1                0.0          0        66.0   \n",
       "2               2583        1             2358.0          1       120.0   \n",
       "3               6000        0                0.0          0       141.0   \n",
       "4               2333        1             1516.0          1        95.0   \n",
       "..               ...      ...                ...        ...         ...   \n",
       "376             5703        1                0.0          0       128.0   \n",
       "377             3232        1             1950.0          0       108.0   \n",
       "378             2900        0                0.0          0        71.0   \n",
       "379             4106        1                0.0          0        40.0   \n",
       "380             4583        0                0.0          0       133.0   \n",
       "\n",
       "     Credit_History Property_Area  \n",
       "0               1.0         Rural  \n",
       "1               1.0         Urban  \n",
       "2               1.0         Urban  \n",
       "3               1.0         Urban  \n",
       "4               1.0         Urban  \n",
       "..              ...           ...  \n",
       "376             1.0         Urban  \n",
       "377             1.0         Rural  \n",
       "378             1.0         Rural  \n",
       "379             1.0         Rural  \n",
       "380             0.0     Semiurban  \n",
       "\n",
       "[308 rows x 7 columns]"
      ]
     },
     "execution_count": 127,
     "metadata": {},
     "output_type": "execute_result"
    }
   ],
   "source": [
    "X[\"Education\"] = label_encoder.fit_transform(X[\"Education\"])\n",
    "X"
   ]
  },
  {
   "cell_type": "code",
   "execution_count": 128,
   "metadata": {},
   "outputs": [
    {
     "data": {
      "text/plain": [
       "array(['Graduate', 'Not Graduate'], dtype=object)"
      ]
     },
     "execution_count": 128,
     "metadata": {},
     "output_type": "execute_result"
    }
   ],
   "source": [
    "label_encoder.classes_\n",
    "# Graduate = 0, Not Graduate = 1"
   ]
  },
  {
   "cell_type": "code",
   "execution_count": 129,
   "metadata": {},
   "outputs": [
    {
     "name": "stderr",
     "output_type": "stream",
     "text": [
      "/var/folders/03/zvq_lt1s2gd346g4982350840000gn/T/ipykernel_33282/1574748381.py:1: SettingWithCopyWarning: \n",
      "A value is trying to be set on a copy of a slice from a DataFrame.\n",
      "Try using .loc[row_indexer,col_indexer] = value instead\n",
      "\n",
      "See the caveats in the documentation: https://pandas.pydata.org/pandas-docs/stable/user_guide/indexing.html#returning-a-view-versus-a-copy\n",
      "  X[\"Property_Area\"] = label_encoder.fit_transform(X[\"Property_Area\"])\n"
     ]
    },
    {
     "data": {
      "application/vnd.microsoft.datawrangler.viewer.v0+json": {
       "columns": [
        {
         "name": "index",
         "rawType": "int64",
         "type": "integer"
        },
        {
         "name": "ApplicantIncome",
         "rawType": "int64",
         "type": "integer"
        },
        {
         "name": "Married",
         "rawType": "int64",
         "type": "integer"
        },
        {
         "name": "CoapplicantIncome",
         "rawType": "float64",
         "type": "float"
        },
        {
         "name": "Education",
         "rawType": "int64",
         "type": "integer"
        },
        {
         "name": "LoanAmount",
         "rawType": "float64",
         "type": "float"
        },
        {
         "name": "Credit_History",
         "rawType": "float64",
         "type": "float"
        },
        {
         "name": "Property_Area",
         "rawType": "int64",
         "type": "integer"
        }
       ],
       "conversionMethod": "pd.DataFrame",
       "ref": "6cf15725-b7fd-4148-857c-76f368c040d4",
       "rows": [
        [
         "0",
         "4583",
         "1",
         "1508.0",
         "0",
         "128.0",
         "1.0",
         "0"
        ],
        [
         "1",
         "3000",
         "1",
         "0.0",
         "0",
         "66.0",
         "1.0",
         "2"
        ],
        [
         "2",
         "2583",
         "1",
         "2358.0",
         "1",
         "120.0",
         "1.0",
         "2"
        ],
        [
         "3",
         "6000",
         "0",
         "0.0",
         "0",
         "141.0",
         "1.0",
         "2"
        ],
        [
         "4",
         "2333",
         "1",
         "1516.0",
         "1",
         "95.0",
         "1.0",
         "2"
        ],
        [
         "5",
         "3200",
         "1",
         "700.0",
         "0",
         "70.0",
         "1.0",
         "2"
        ],
        [
         "7",
         "1853",
         "0",
         "2840.0",
         "0",
         "114.0",
         "1.0",
         "0"
        ],
        [
         "8",
         "1299",
         "1",
         "1086.0",
         "0",
         "17.0",
         "1.0",
         "2"
        ],
        [
         "9",
         "4950",
         "0",
         "0.0",
         "0",
         "125.0",
         "1.0",
         "2"
        ],
        [
         "11",
         "3510",
         "0",
         "0.0",
         "0",
         "76.0",
         "0.0",
         "2"
        ],
        [
         "12",
         "4887",
         "1",
         "0.0",
         "1",
         "133.0",
         "1.0",
         "0"
        ],
        [
         "14",
         "7660",
         "1",
         "0.0",
         "1",
         "104.0",
         "0.0",
         "2"
        ],
        [
         "15",
         "2600",
         "1",
         "1911.0",
         "1",
         "116.0",
         "0.0",
         "1"
        ],
        [
         "17",
         "2799",
         "1",
         "2253.0",
         "0",
         "122.0",
         "1.0",
         "1"
        ],
        [
         "18",
         "4226",
         "1",
         "1040.0",
         "1",
         "110.0",
         "1.0",
         "2"
        ],
        [
         "19",
         "1442",
         "0",
         "0.0",
         "1",
         "35.0",
         "1.0",
         "2"
        ],
        [
         "21",
         "3167",
         "0",
         "0.0",
         "0",
         "74.0",
         "1.0",
         "2"
        ],
        [
         "22",
         "4692",
         "0",
         "0.0",
         "0",
         "106.0",
         "1.0",
         "0"
        ],
        [
         "23",
         "3500",
         "1",
         "1667.0",
         "0",
         "114.0",
         "1.0",
         "1"
        ],
        [
         "25",
         "3667",
         "1",
         "1459.0",
         "0",
         "144.0",
         "1.0",
         "1"
        ],
        [
         "26",
         "3748",
         "0",
         "1668.0",
         "1",
         "110.0",
         "1.0",
         "1"
        ],
        [
         "27",
         "3600",
         "0",
         "0.0",
         "0",
         "80.0",
         "1.0",
         "2"
        ],
        [
         "28",
         "1800",
         "0",
         "1213.0",
         "0",
         "47.0",
         "1.0",
         "2"
        ],
        [
         "30",
         "3941",
         "1",
         "2336.0",
         "0",
         "134.0",
         "1.0",
         "1"
        ],
        [
         "33",
         "5649",
         "1",
         "0.0",
         "0",
         "44.0",
         "1.0",
         "2"
        ],
        [
         "34",
         "5821",
         "1",
         "0.0",
         "0",
         "144.0",
         "1.0",
         "2"
        ],
        [
         "35",
         "2645",
         "1",
         "3440.0",
         "0",
         "120.0",
         "0.0",
         "2"
        ],
        [
         "36",
         "4000",
         "0",
         "2275.0",
         "0",
         "144.0",
         "1.0",
         "1"
        ],
        [
         "37",
         "1928",
         "1",
         "1644.0",
         "1",
         "100.0",
         "1.0",
         "1"
        ],
        [
         "38",
         "3086",
         "0",
         "0.0",
         "0",
         "120.0",
         "1.0",
         "1"
        ],
        [
         "39",
         "4230",
         "0",
         "0.0",
         "0",
         "112.0",
         "1.0",
         "1"
        ],
        [
         "40",
         "4616",
         "1",
         "0.0",
         "0",
         "134.0",
         "1.0",
         "2"
        ],
        [
         "41",
         "2708",
         "1",
         "1167.0",
         "0",
         "97.0",
         "1.0",
         "1"
        ],
        [
         "42",
         "2132",
         "1",
         "1591.0",
         "0",
         "96.0",
         "1.0",
         "1"
        ],
        [
         "43",
         "3366",
         "1",
         "2200.0",
         "0",
         "135.0",
         "1.0",
         "0"
        ],
        [
         "44",
         "3357",
         "1",
         "2859.0",
         "1",
         "144.0",
         "1.0",
         "2"
        ],
        [
         "45",
         "2500",
         "1",
         "3796.0",
         "0",
         "120.0",
         "1.0",
         "2"
        ],
        [
         "46",
         "3029",
         "1",
         "0.0",
         "0",
         "99.0",
         "1.0",
         "2"
        ],
        [
         "47",
         "4166",
         "0",
         "0.0",
         "0",
         "116.0",
         "0.0",
         "1"
        ],
        [
         "48",
         "3200",
         "0",
         "2254.0",
         "1",
         "126.0",
         "0.0",
         "2"
        ],
        [
         "49",
         "7100",
         "1",
         "0.0",
         "1",
         "125.0",
         "1.0",
         "2"
        ],
        [
         "50",
         "4300",
         "0",
         "0.0",
         "0",
         "136.0",
         "0.0",
         "1"
        ],
        [
         "51",
         "1875",
         "1",
         "1875.0",
         "1",
         "97.0",
         "1.0",
         "1"
        ],
        [
         "52",
         "3500",
         "0",
         "0.0",
         "0",
         "81.0",
         "1.0",
         "1"
        ],
        [
         "54",
         "3750",
         "0",
         "0.0",
         "0",
         "113.0",
         "1.0",
         "2"
        ],
        [
         "55",
         "1000",
         "1",
         "3022.0",
         "0",
         "110.0",
         "1.0",
         "2"
        ],
        [
         "57",
         "3846",
         "0",
         "0.0",
         "0",
         "111.0",
         "1.0",
         "1"
        ],
        [
         "58",
         "3988",
         "1",
         "0.0",
         "0",
         "50.0",
         "1.0",
         "2"
        ],
        [
         "59",
         "2366",
         "0",
         "2531.0",
         "0",
         "136.0",
         "1.0",
         "1"
        ],
        [
         "61",
         "2500",
         "1",
         "2118.0",
         "0",
         "104.0",
         "1.0",
         "1"
        ]
       ],
       "shape": {
        "columns": 7,
        "rows": 308
       }
      },
      "text/html": [
       "<div>\n",
       "<style scoped>\n",
       "    .dataframe tbody tr th:only-of-type {\n",
       "        vertical-align: middle;\n",
       "    }\n",
       "\n",
       "    .dataframe tbody tr th {\n",
       "        vertical-align: top;\n",
       "    }\n",
       "\n",
       "    .dataframe thead th {\n",
       "        text-align: right;\n",
       "    }\n",
       "</style>\n",
       "<table border=\"1\" class=\"dataframe\">\n",
       "  <thead>\n",
       "    <tr style=\"text-align: right;\">\n",
       "      <th></th>\n",
       "      <th>ApplicantIncome</th>\n",
       "      <th>Married</th>\n",
       "      <th>CoapplicantIncome</th>\n",
       "      <th>Education</th>\n",
       "      <th>LoanAmount</th>\n",
       "      <th>Credit_History</th>\n",
       "      <th>Property_Area</th>\n",
       "    </tr>\n",
       "  </thead>\n",
       "  <tbody>\n",
       "    <tr>\n",
       "      <th>0</th>\n",
       "      <td>4583</td>\n",
       "      <td>1</td>\n",
       "      <td>1508.0</td>\n",
       "      <td>0</td>\n",
       "      <td>128.0</td>\n",
       "      <td>1.0</td>\n",
       "      <td>0</td>\n",
       "    </tr>\n",
       "    <tr>\n",
       "      <th>1</th>\n",
       "      <td>3000</td>\n",
       "      <td>1</td>\n",
       "      <td>0.0</td>\n",
       "      <td>0</td>\n",
       "      <td>66.0</td>\n",
       "      <td>1.0</td>\n",
       "      <td>2</td>\n",
       "    </tr>\n",
       "    <tr>\n",
       "      <th>2</th>\n",
       "      <td>2583</td>\n",
       "      <td>1</td>\n",
       "      <td>2358.0</td>\n",
       "      <td>1</td>\n",
       "      <td>120.0</td>\n",
       "      <td>1.0</td>\n",
       "      <td>2</td>\n",
       "    </tr>\n",
       "    <tr>\n",
       "      <th>3</th>\n",
       "      <td>6000</td>\n",
       "      <td>0</td>\n",
       "      <td>0.0</td>\n",
       "      <td>0</td>\n",
       "      <td>141.0</td>\n",
       "      <td>1.0</td>\n",
       "      <td>2</td>\n",
       "    </tr>\n",
       "    <tr>\n",
       "      <th>4</th>\n",
       "      <td>2333</td>\n",
       "      <td>1</td>\n",
       "      <td>1516.0</td>\n",
       "      <td>1</td>\n",
       "      <td>95.0</td>\n",
       "      <td>1.0</td>\n",
       "      <td>2</td>\n",
       "    </tr>\n",
       "    <tr>\n",
       "      <th>...</th>\n",
       "      <td>...</td>\n",
       "      <td>...</td>\n",
       "      <td>...</td>\n",
       "      <td>...</td>\n",
       "      <td>...</td>\n",
       "      <td>...</td>\n",
       "      <td>...</td>\n",
       "    </tr>\n",
       "    <tr>\n",
       "      <th>376</th>\n",
       "      <td>5703</td>\n",
       "      <td>1</td>\n",
       "      <td>0.0</td>\n",
       "      <td>0</td>\n",
       "      <td>128.0</td>\n",
       "      <td>1.0</td>\n",
       "      <td>2</td>\n",
       "    </tr>\n",
       "    <tr>\n",
       "      <th>377</th>\n",
       "      <td>3232</td>\n",
       "      <td>1</td>\n",
       "      <td>1950.0</td>\n",
       "      <td>0</td>\n",
       "      <td>108.0</td>\n",
       "      <td>1.0</td>\n",
       "      <td>0</td>\n",
       "    </tr>\n",
       "    <tr>\n",
       "      <th>378</th>\n",
       "      <td>2900</td>\n",
       "      <td>0</td>\n",
       "      <td>0.0</td>\n",
       "      <td>0</td>\n",
       "      <td>71.0</td>\n",
       "      <td>1.0</td>\n",
       "      <td>0</td>\n",
       "    </tr>\n",
       "    <tr>\n",
       "      <th>379</th>\n",
       "      <td>4106</td>\n",
       "      <td>1</td>\n",
       "      <td>0.0</td>\n",
       "      <td>0</td>\n",
       "      <td>40.0</td>\n",
       "      <td>1.0</td>\n",
       "      <td>0</td>\n",
       "    </tr>\n",
       "    <tr>\n",
       "      <th>380</th>\n",
       "      <td>4583</td>\n",
       "      <td>0</td>\n",
       "      <td>0.0</td>\n",
       "      <td>0</td>\n",
       "      <td>133.0</td>\n",
       "      <td>0.0</td>\n",
       "      <td>1</td>\n",
       "    </tr>\n",
       "  </tbody>\n",
       "</table>\n",
       "<p>308 rows × 7 columns</p>\n",
       "</div>"
      ],
      "text/plain": [
       "     ApplicantIncome  Married  CoapplicantIncome  Education  LoanAmount  \\\n",
       "0               4583        1             1508.0          0       128.0   \n",
       "1               3000        1                0.0          0        66.0   \n",
       "2               2583        1             2358.0          1       120.0   \n",
       "3               6000        0                0.0          0       141.0   \n",
       "4               2333        1             1516.0          1        95.0   \n",
       "..               ...      ...                ...        ...         ...   \n",
       "376             5703        1                0.0          0       128.0   \n",
       "377             3232        1             1950.0          0       108.0   \n",
       "378             2900        0                0.0          0        71.0   \n",
       "379             4106        1                0.0          0        40.0   \n",
       "380             4583        0                0.0          0       133.0   \n",
       "\n",
       "     Credit_History  Property_Area  \n",
       "0               1.0              0  \n",
       "1               1.0              2  \n",
       "2               1.0              2  \n",
       "3               1.0              2  \n",
       "4               1.0              2  \n",
       "..              ...            ...  \n",
       "376             1.0              2  \n",
       "377             1.0              0  \n",
       "378             1.0              0  \n",
       "379             1.0              0  \n",
       "380             0.0              1  \n",
       "\n",
       "[308 rows x 7 columns]"
      ]
     },
     "execution_count": 129,
     "metadata": {},
     "output_type": "execute_result"
    }
   ],
   "source": [
    "X[\"Property_Area\"] = label_encoder.fit_transform(X[\"Property_Area\"])\n",
    "X"
   ]
  },
  {
   "cell_type": "code",
   "execution_count": 130,
   "metadata": {},
   "outputs": [
    {
     "data": {
      "text/plain": [
       "array(['Rural', 'Semiurban', 'Urban'], dtype=object)"
      ]
     },
     "execution_count": 130,
     "metadata": {},
     "output_type": "execute_result"
    }
   ],
   "source": [
    "label_encoder.classes_\n",
    "# Rural = 0, Semiurban = 1, Urban = 2"
   ]
  },
  {
   "cell_type": "code",
   "execution_count": 131,
   "metadata": {},
   "outputs": [],
   "source": [
    "from sklearn.preprocessing import StandardScaler\n",
    "scaler = StandardScaler()"
   ]
  },
  {
   "cell_type": "code",
   "execution_count": 132,
   "metadata": {},
   "outputs": [
    {
     "data": {
      "text/plain": [
       "array([[ 0.67389339,  0.81539246,  0.09121075, ...,  0.79689813,\n",
       "         0.41364557, -1.34675568],\n",
       "       [-0.41036528,  0.81539246, -0.50794721, ..., -1.31665281,\n",
       "         0.41364557,  1.23767266],\n",
       "       [-0.6959849 ,  0.81539246,  0.42893241, ...,  0.52418188,\n",
       "         0.41364557,  1.23767266],\n",
       "       ...,\n",
       "       [-0.47885919, -1.22640329, -0.50794721, ..., -1.14620515,\n",
       "         0.41364557, -1.34675568],\n",
       "       [ 0.34717742,  0.81539246, -0.50794721, ..., -2.20298062,\n",
       "         0.41364557, -1.34675568],\n",
       "       [ 0.67389339, -1.22640329, -0.50794721, ...,  0.96734579,\n",
       "        -2.41752858, -0.05454151]])"
      ]
     },
     "execution_count": 132,
     "metadata": {},
     "output_type": "execute_result"
    }
   ],
   "source": [
    "X = scaler.fit_transform(X)\n",
    "X"
   ]
  },
  {
   "cell_type": "code",
   "execution_count": 133,
   "metadata": {},
   "outputs": [
    {
     "data": {
      "text/plain": [
       "['scaler.pkl']"
      ]
     },
     "execution_count": 133,
     "metadata": {},
     "output_type": "execute_result"
    }
   ],
   "source": [
    "import joblib\n",
    "joblib.dump(scaler, \"scaler.pkl\")"
   ]
  },
  {
   "cell_type": "code",
   "execution_count": 134,
   "metadata": {},
   "outputs": [],
   "source": [
    "from sklearn.model_selection import train_test_split\n",
    "X_train, X_test, y_train, y_test = train_test_split(X, y, test_size=0.3)"
   ]
  },
  {
   "cell_type": "code",
   "execution_count": 136,
   "metadata": {},
   "outputs": [],
   "source": [
    "from sklearn.metrics import accuracy_score\n",
    "from sklearn.metrics import classification_report\n",
    "def modelperformance(predictions):\n",
    "    print(\"Accuracy Score: {}\".format(accuracy_score(y_test, predictions)))\n",
    "    print(\"Classification Report: \\n\", classification_report(y_test, predictions))\n",
    "\n"
   ]
  },
  {
   "cell_type": "code",
   "execution_count": 137,
   "metadata": {},
   "outputs": [],
   "source": [
    "from sklearn.model_selection import GridSearchCV"
   ]
  },
  {
   "cell_type": "code",
   "execution_count": 138,
   "metadata": {},
   "outputs": [
    {
     "name": "stderr",
     "output_type": "stream",
     "text": [
      "/Users/gavinbrumfield/opt/anaconda3/lib/python3.9/site-packages/sklearn/utils/validation.py:1111: DataConversionWarning: A column-vector y was passed when a 1d array was expected. Please change the shape of y to (n_samples, ), for example using ravel().\n",
      "  y = column_or_1d(y, warn=True)\n"
     ]
    },
    {
     "data": {
      "text/html": [
       "<style>#sk-container-id-4 {color: black;background-color: white;}#sk-container-id-4 pre{padding: 0;}#sk-container-id-4 div.sk-toggleable {background-color: white;}#sk-container-id-4 label.sk-toggleable__label {cursor: pointer;display: block;width: 100%;margin-bottom: 0;padding: 0.3em;box-sizing: border-box;text-align: center;}#sk-container-id-4 label.sk-toggleable__label-arrow:before {content: \"▸\";float: left;margin-right: 0.25em;color: #696969;}#sk-container-id-4 label.sk-toggleable__label-arrow:hover:before {color: black;}#sk-container-id-4 div.sk-estimator:hover label.sk-toggleable__label-arrow:before {color: black;}#sk-container-id-4 div.sk-toggleable__content {max-height: 0;max-width: 0;overflow: hidden;text-align: left;background-color: #f0f8ff;}#sk-container-id-4 div.sk-toggleable__content pre {margin: 0.2em;color: black;border-radius: 0.25em;background-color: #f0f8ff;}#sk-container-id-4 input.sk-toggleable__control:checked~div.sk-toggleable__content {max-height: 200px;max-width: 100%;overflow: auto;}#sk-container-id-4 input.sk-toggleable__control:checked~label.sk-toggleable__label-arrow:before {content: \"▾\";}#sk-container-id-4 div.sk-estimator input.sk-toggleable__control:checked~label.sk-toggleable__label {background-color: #d4ebff;}#sk-container-id-4 div.sk-label input.sk-toggleable__control:checked~label.sk-toggleable__label {background-color: #d4ebff;}#sk-container-id-4 input.sk-hidden--visually {border: 0;clip: rect(1px 1px 1px 1px);clip: rect(1px, 1px, 1px, 1px);height: 1px;margin: -1px;overflow: hidden;padding: 0;position: absolute;width: 1px;}#sk-container-id-4 div.sk-estimator {font-family: monospace;background-color: #f0f8ff;border: 1px dotted black;border-radius: 0.25em;box-sizing: border-box;margin-bottom: 0.5em;}#sk-container-id-4 div.sk-estimator:hover {background-color: #d4ebff;}#sk-container-id-4 div.sk-parallel-item::after {content: \"\";width: 100%;border-bottom: 1px solid gray;flex-grow: 1;}#sk-container-id-4 div.sk-label:hover label.sk-toggleable__label {background-color: #d4ebff;}#sk-container-id-4 div.sk-serial::before {content: \"\";position: absolute;border-left: 1px solid gray;box-sizing: border-box;top: 0;bottom: 0;left: 50%;z-index: 0;}#sk-container-id-4 div.sk-serial {display: flex;flex-direction: column;align-items: center;background-color: white;padding-right: 0.2em;padding-left: 0.2em;position: relative;}#sk-container-id-4 div.sk-item {position: relative;z-index: 1;}#sk-container-id-4 div.sk-parallel {display: flex;align-items: stretch;justify-content: center;background-color: white;position: relative;}#sk-container-id-4 div.sk-item::before, #sk-container-id-4 div.sk-parallel-item::before {content: \"\";position: absolute;border-left: 1px solid gray;box-sizing: border-box;top: 0;bottom: 0;left: 50%;z-index: -1;}#sk-container-id-4 div.sk-parallel-item {display: flex;flex-direction: column;z-index: 1;position: relative;background-color: white;}#sk-container-id-4 div.sk-parallel-item:first-child::after {align-self: flex-end;width: 50%;}#sk-container-id-4 div.sk-parallel-item:last-child::after {align-self: flex-start;width: 50%;}#sk-container-id-4 div.sk-parallel-item:only-child::after {width: 0;}#sk-container-id-4 div.sk-dashed-wrapped {border: 1px dashed gray;margin: 0 0.4em 0.5em 0.4em;box-sizing: border-box;padding-bottom: 0.4em;background-color: white;}#sk-container-id-4 div.sk-label label {font-family: monospace;font-weight: bold;display: inline-block;line-height: 1.2em;}#sk-container-id-4 div.sk-label-container {text-align: center;}#sk-container-id-4 div.sk-container {/* jupyter's `normalize.less` sets `[hidden] { display: none; }` but bootstrap.min.css set `[hidden] { display: none !important; }` so we also need the `!important` here to be able to override the default hidden behavior on the sphinx rendered scikit-learn.org. See: https://github.com/scikit-learn/scikit-learn/issues/21755 */display: inline-block !important;position: relative;}#sk-container-id-4 div.sk-text-repr-fallback {display: none;}</style><div id=\"sk-container-id-4\" class=\"sk-top-container\"><div class=\"sk-text-repr-fallback\"><pre>LogisticRegression()</pre><b>In a Jupyter environment, please rerun this cell to show the HTML representation or trust the notebook. <br />On GitHub, the HTML representation is unable to render, please try loading this page with nbviewer.org.</b></div><div class=\"sk-container\" hidden><div class=\"sk-item\"><div class=\"sk-estimator sk-toggleable\"><input class=\"sk-toggleable__control sk-hidden--visually\" id=\"sk-estimator-id-8\" type=\"checkbox\" checked><label for=\"sk-estimator-id-8\" class=\"sk-toggleable__label sk-toggleable__label-arrow\">LogisticRegression</label><div class=\"sk-toggleable__content\"><pre>LogisticRegression()</pre></div></div></div></div></div>"
      ],
      "text/plain": [
       "LogisticRegression()"
      ]
     },
     "execution_count": 138,
     "metadata": {},
     "output_type": "execute_result"
    }
   ],
   "source": [
    "from sklearn.linear_model import LogisticRegression\n",
    "log_model = LogisticRegression()\n",
    "log_model.fit(X_train, y_train)"
   ]
  },
  {
   "cell_type": "code",
   "execution_count": 139,
   "metadata": {},
   "outputs": [
    {
     "name": "stdout",
     "output_type": "stream",
     "text": [
      "Accuracy Score: 0.8709677419354839\n",
      "Classification Report: \n",
      "               precision    recall  f1-score   support\n",
      "\n",
      "           0       0.73      0.58      0.65        19\n",
      "           1       0.90      0.95      0.92        74\n",
      "\n",
      "    accuracy                           0.87        93\n",
      "   macro avg       0.82      0.76      0.78        93\n",
      "weighted avg       0.86      0.87      0.87        93\n",
      "\n"
     ]
    }
   ],
   "source": [
    "log_predictions = log_model.predict(X_test)\n",
    "modelperformance(log_predictions)"
   ]
  },
  {
   "cell_type": "code",
   "execution_count": 140,
   "metadata": {},
   "outputs": [
    {
     "data": {
      "text/html": [
       "<style>#sk-container-id-5 {color: black;background-color: white;}#sk-container-id-5 pre{padding: 0;}#sk-container-id-5 div.sk-toggleable {background-color: white;}#sk-container-id-5 label.sk-toggleable__label {cursor: pointer;display: block;width: 100%;margin-bottom: 0;padding: 0.3em;box-sizing: border-box;text-align: center;}#sk-container-id-5 label.sk-toggleable__label-arrow:before {content: \"▸\";float: left;margin-right: 0.25em;color: #696969;}#sk-container-id-5 label.sk-toggleable__label-arrow:hover:before {color: black;}#sk-container-id-5 div.sk-estimator:hover label.sk-toggleable__label-arrow:before {color: black;}#sk-container-id-5 div.sk-toggleable__content {max-height: 0;max-width: 0;overflow: hidden;text-align: left;background-color: #f0f8ff;}#sk-container-id-5 div.sk-toggleable__content pre {margin: 0.2em;color: black;border-radius: 0.25em;background-color: #f0f8ff;}#sk-container-id-5 input.sk-toggleable__control:checked~div.sk-toggleable__content {max-height: 200px;max-width: 100%;overflow: auto;}#sk-container-id-5 input.sk-toggleable__control:checked~label.sk-toggleable__label-arrow:before {content: \"▾\";}#sk-container-id-5 div.sk-estimator input.sk-toggleable__control:checked~label.sk-toggleable__label {background-color: #d4ebff;}#sk-container-id-5 div.sk-label input.sk-toggleable__control:checked~label.sk-toggleable__label {background-color: #d4ebff;}#sk-container-id-5 input.sk-hidden--visually {border: 0;clip: rect(1px 1px 1px 1px);clip: rect(1px, 1px, 1px, 1px);height: 1px;margin: -1px;overflow: hidden;padding: 0;position: absolute;width: 1px;}#sk-container-id-5 div.sk-estimator {font-family: monospace;background-color: #f0f8ff;border: 1px dotted black;border-radius: 0.25em;box-sizing: border-box;margin-bottom: 0.5em;}#sk-container-id-5 div.sk-estimator:hover {background-color: #d4ebff;}#sk-container-id-5 div.sk-parallel-item::after {content: \"\";width: 100%;border-bottom: 1px solid gray;flex-grow: 1;}#sk-container-id-5 div.sk-label:hover label.sk-toggleable__label {background-color: #d4ebff;}#sk-container-id-5 div.sk-serial::before {content: \"\";position: absolute;border-left: 1px solid gray;box-sizing: border-box;top: 0;bottom: 0;left: 50%;z-index: 0;}#sk-container-id-5 div.sk-serial {display: flex;flex-direction: column;align-items: center;background-color: white;padding-right: 0.2em;padding-left: 0.2em;position: relative;}#sk-container-id-5 div.sk-item {position: relative;z-index: 1;}#sk-container-id-5 div.sk-parallel {display: flex;align-items: stretch;justify-content: center;background-color: white;position: relative;}#sk-container-id-5 div.sk-item::before, #sk-container-id-5 div.sk-parallel-item::before {content: \"\";position: absolute;border-left: 1px solid gray;box-sizing: border-box;top: 0;bottom: 0;left: 50%;z-index: -1;}#sk-container-id-5 div.sk-parallel-item {display: flex;flex-direction: column;z-index: 1;position: relative;background-color: white;}#sk-container-id-5 div.sk-parallel-item:first-child::after {align-self: flex-end;width: 50%;}#sk-container-id-5 div.sk-parallel-item:last-child::after {align-self: flex-start;width: 50%;}#sk-container-id-5 div.sk-parallel-item:only-child::after {width: 0;}#sk-container-id-5 div.sk-dashed-wrapped {border: 1px dashed gray;margin: 0 0.4em 0.5em 0.4em;box-sizing: border-box;padding-bottom: 0.4em;background-color: white;}#sk-container-id-5 div.sk-label label {font-family: monospace;font-weight: bold;display: inline-block;line-height: 1.2em;}#sk-container-id-5 div.sk-label-container {text-align: center;}#sk-container-id-5 div.sk-container {/* jupyter's `normalize.less` sets `[hidden] { display: none; }` but bootstrap.min.css set `[hidden] { display: none !important; }` so we also need the `!important` here to be able to override the default hidden behavior on the sphinx rendered scikit-learn.org. See: https://github.com/scikit-learn/scikit-learn/issues/21755 */display: inline-block !important;position: relative;}#sk-container-id-5 div.sk-text-repr-fallback {display: none;}</style><div id=\"sk-container-id-5\" class=\"sk-top-container\"><div class=\"sk-text-repr-fallback\"><pre>GridSearchCV(estimator=KNeighborsClassifier(),\n",
       "             param_grid={&#x27;n_neighbors&#x27;: [3, 5, 7, 9, 11, 13, 15, 17, 19, 21],\n",
       "                         &#x27;weights&#x27;: [&#x27;uniform&#x27;, &#x27;distance&#x27;]})</pre><b>In a Jupyter environment, please rerun this cell to show the HTML representation or trust the notebook. <br />On GitHub, the HTML representation is unable to render, please try loading this page with nbviewer.org.</b></div><div class=\"sk-container\" hidden><div class=\"sk-item sk-dashed-wrapped\"><div class=\"sk-label-container\"><div class=\"sk-label sk-toggleable\"><input class=\"sk-toggleable__control sk-hidden--visually\" id=\"sk-estimator-id-9\" type=\"checkbox\" ><label for=\"sk-estimator-id-9\" class=\"sk-toggleable__label sk-toggleable__label-arrow\">GridSearchCV</label><div class=\"sk-toggleable__content\"><pre>GridSearchCV(estimator=KNeighborsClassifier(),\n",
       "             param_grid={&#x27;n_neighbors&#x27;: [3, 5, 7, 9, 11, 13, 15, 17, 19, 21],\n",
       "                         &#x27;weights&#x27;: [&#x27;uniform&#x27;, &#x27;distance&#x27;]})</pre></div></div></div><div class=\"sk-parallel\"><div class=\"sk-parallel-item\"><div class=\"sk-item\"><div class=\"sk-label-container\"><div class=\"sk-label sk-toggleable\"><input class=\"sk-toggleable__control sk-hidden--visually\" id=\"sk-estimator-id-10\" type=\"checkbox\" ><label for=\"sk-estimator-id-10\" class=\"sk-toggleable__label sk-toggleable__label-arrow\">estimator: KNeighborsClassifier</label><div class=\"sk-toggleable__content\"><pre>KNeighborsClassifier()</pre></div></div></div><div class=\"sk-serial\"><div class=\"sk-item\"><div class=\"sk-estimator sk-toggleable\"><input class=\"sk-toggleable__control sk-hidden--visually\" id=\"sk-estimator-id-11\" type=\"checkbox\" ><label for=\"sk-estimator-id-11\" class=\"sk-toggleable__label sk-toggleable__label-arrow\">KNeighborsClassifier</label><div class=\"sk-toggleable__content\"><pre>KNeighborsClassifier()</pre></div></div></div></div></div></div></div></div></div></div>"
      ],
      "text/plain": [
       "GridSearchCV(estimator=KNeighborsClassifier(),\n",
       "             param_grid={'n_neighbors': [3, 5, 7, 9, 11, 13, 15, 17, 19, 21],\n",
       "                         'weights': ['uniform', 'distance']})"
      ]
     },
     "execution_count": 140,
     "metadata": {},
     "output_type": "execute_result"
    }
   ],
   "source": [
    "from sklearn.neighbors import KNeighborsClassifier\n",
    "param_grid = {\"n_neighbors\": [3,5,7,9,11,13,15,17,19,21],\n",
    "              \"weights\": [\"uniform\",\"distance\"]}\n",
    "gridkn = GridSearchCV(KNeighborsClassifier(), param_grid)\n",
    "gridkn.fit(X_train, y_train.values.ravel())"
   ]
  },
  {
   "cell_type": "code",
   "execution_count": null,
   "metadata": {},
   "outputs": [
    {
     "data": {
      "text/plain": [
       "{'n_neighbors': 13, 'weights': 'distance'}"
      ]
     },
     "execution_count": 141,
     "metadata": {},
     "output_type": "execute_result"
    }
   ],
   "source": [
    "gridkn.best_params_"
   ]
  },
  {
   "cell_type": "code",
   "execution_count": null,
   "metadata": {},
   "outputs": [
    {
     "name": "stdout",
     "output_type": "stream",
     "text": [
      "Accuracy Score: 0.8494623655913979\n",
      "Classification Report: \n",
      "               precision    recall  f1-score   support\n",
      "\n",
      "           0       0.65      0.58      0.61        19\n",
      "           1       0.89      0.92      0.91        74\n",
      "\n",
      "    accuracy                           0.85        93\n",
      "   macro avg       0.77      0.75      0.76        93\n",
      "weighted avg       0.84      0.85      0.85        93\n",
      "\n"
     ]
    }
   ],
   "source": [
    "kn_predictions = gridkn.predict(X_test)\n",
    "modelperformance(kn_predictions)"
   ]
  },
  {
   "cell_type": "code",
   "execution_count": 158,
   "metadata": {},
   "outputs": [],
   "source": [
    "from sklearn.svm import SVC\n",
    "param_grid_svc = {\"C\": [0.01,0.1,0.5,1,5,10,50,100],\n",
    "                  \"kernel\": [\"linear\", \"rbf\", \"poly\"]}"
   ]
  },
  {
   "cell_type": "code",
   "execution_count": 144,
   "metadata": {},
   "outputs": [
    {
     "data": {
      "text/html": [
       "<style>#sk-container-id-6 {color: black;background-color: white;}#sk-container-id-6 pre{padding: 0;}#sk-container-id-6 div.sk-toggleable {background-color: white;}#sk-container-id-6 label.sk-toggleable__label {cursor: pointer;display: block;width: 100%;margin-bottom: 0;padding: 0.3em;box-sizing: border-box;text-align: center;}#sk-container-id-6 label.sk-toggleable__label-arrow:before {content: \"▸\";float: left;margin-right: 0.25em;color: #696969;}#sk-container-id-6 label.sk-toggleable__label-arrow:hover:before {color: black;}#sk-container-id-6 div.sk-estimator:hover label.sk-toggleable__label-arrow:before {color: black;}#sk-container-id-6 div.sk-toggleable__content {max-height: 0;max-width: 0;overflow: hidden;text-align: left;background-color: #f0f8ff;}#sk-container-id-6 div.sk-toggleable__content pre {margin: 0.2em;color: black;border-radius: 0.25em;background-color: #f0f8ff;}#sk-container-id-6 input.sk-toggleable__control:checked~div.sk-toggleable__content {max-height: 200px;max-width: 100%;overflow: auto;}#sk-container-id-6 input.sk-toggleable__control:checked~label.sk-toggleable__label-arrow:before {content: \"▾\";}#sk-container-id-6 div.sk-estimator input.sk-toggleable__control:checked~label.sk-toggleable__label {background-color: #d4ebff;}#sk-container-id-6 div.sk-label input.sk-toggleable__control:checked~label.sk-toggleable__label {background-color: #d4ebff;}#sk-container-id-6 input.sk-hidden--visually {border: 0;clip: rect(1px 1px 1px 1px);clip: rect(1px, 1px, 1px, 1px);height: 1px;margin: -1px;overflow: hidden;padding: 0;position: absolute;width: 1px;}#sk-container-id-6 div.sk-estimator {font-family: monospace;background-color: #f0f8ff;border: 1px dotted black;border-radius: 0.25em;box-sizing: border-box;margin-bottom: 0.5em;}#sk-container-id-6 div.sk-estimator:hover {background-color: #d4ebff;}#sk-container-id-6 div.sk-parallel-item::after {content: \"\";width: 100%;border-bottom: 1px solid gray;flex-grow: 1;}#sk-container-id-6 div.sk-label:hover label.sk-toggleable__label {background-color: #d4ebff;}#sk-container-id-6 div.sk-serial::before {content: \"\";position: absolute;border-left: 1px solid gray;box-sizing: border-box;top: 0;bottom: 0;left: 50%;z-index: 0;}#sk-container-id-6 div.sk-serial {display: flex;flex-direction: column;align-items: center;background-color: white;padding-right: 0.2em;padding-left: 0.2em;position: relative;}#sk-container-id-6 div.sk-item {position: relative;z-index: 1;}#sk-container-id-6 div.sk-parallel {display: flex;align-items: stretch;justify-content: center;background-color: white;position: relative;}#sk-container-id-6 div.sk-item::before, #sk-container-id-6 div.sk-parallel-item::before {content: \"\";position: absolute;border-left: 1px solid gray;box-sizing: border-box;top: 0;bottom: 0;left: 50%;z-index: -1;}#sk-container-id-6 div.sk-parallel-item {display: flex;flex-direction: column;z-index: 1;position: relative;background-color: white;}#sk-container-id-6 div.sk-parallel-item:first-child::after {align-self: flex-end;width: 50%;}#sk-container-id-6 div.sk-parallel-item:last-child::after {align-self: flex-start;width: 50%;}#sk-container-id-6 div.sk-parallel-item:only-child::after {width: 0;}#sk-container-id-6 div.sk-dashed-wrapped {border: 1px dashed gray;margin: 0 0.4em 0.5em 0.4em;box-sizing: border-box;padding-bottom: 0.4em;background-color: white;}#sk-container-id-6 div.sk-label label {font-family: monospace;font-weight: bold;display: inline-block;line-height: 1.2em;}#sk-container-id-6 div.sk-label-container {text-align: center;}#sk-container-id-6 div.sk-container {/* jupyter's `normalize.less` sets `[hidden] { display: none; }` but bootstrap.min.css set `[hidden] { display: none !important; }` so we also need the `!important` here to be able to override the default hidden behavior on the sphinx rendered scikit-learn.org. See: https://github.com/scikit-learn/scikit-learn/issues/21755 */display: inline-block !important;position: relative;}#sk-container-id-6 div.sk-text-repr-fallback {display: none;}</style><div id=\"sk-container-id-6\" class=\"sk-top-container\"><div class=\"sk-text-repr-fallback\"><pre>GridSearchCV(estimator=SVC(),\n",
       "             param_grid={&#x27;C&#x27;: [0.01, 0.1, 0.5, 1, 5],\n",
       "                         &#x27;kernel&#x27;: [&#x27;linear&#x27;, &#x27;rbf&#x27;, &#x27;poly&#x27;]})</pre><b>In a Jupyter environment, please rerun this cell to show the HTML representation or trust the notebook. <br />On GitHub, the HTML representation is unable to render, please try loading this page with nbviewer.org.</b></div><div class=\"sk-container\" hidden><div class=\"sk-item sk-dashed-wrapped\"><div class=\"sk-label-container\"><div class=\"sk-label sk-toggleable\"><input class=\"sk-toggleable__control sk-hidden--visually\" id=\"sk-estimator-id-12\" type=\"checkbox\" ><label for=\"sk-estimator-id-12\" class=\"sk-toggleable__label sk-toggleable__label-arrow\">GridSearchCV</label><div class=\"sk-toggleable__content\"><pre>GridSearchCV(estimator=SVC(),\n",
       "             param_grid={&#x27;C&#x27;: [0.01, 0.1, 0.5, 1, 5],\n",
       "                         &#x27;kernel&#x27;: [&#x27;linear&#x27;, &#x27;rbf&#x27;, &#x27;poly&#x27;]})</pre></div></div></div><div class=\"sk-parallel\"><div class=\"sk-parallel-item\"><div class=\"sk-item\"><div class=\"sk-label-container\"><div class=\"sk-label sk-toggleable\"><input class=\"sk-toggleable__control sk-hidden--visually\" id=\"sk-estimator-id-13\" type=\"checkbox\" ><label for=\"sk-estimator-id-13\" class=\"sk-toggleable__label sk-toggleable__label-arrow\">estimator: SVC</label><div class=\"sk-toggleable__content\"><pre>SVC()</pre></div></div></div><div class=\"sk-serial\"><div class=\"sk-item\"><div class=\"sk-estimator sk-toggleable\"><input class=\"sk-toggleable__control sk-hidden--visually\" id=\"sk-estimator-id-14\" type=\"checkbox\" ><label for=\"sk-estimator-id-14\" class=\"sk-toggleable__label sk-toggleable__label-arrow\">SVC</label><div class=\"sk-toggleable__content\"><pre>SVC()</pre></div></div></div></div></div></div></div></div></div></div>"
      ],
      "text/plain": [
       "GridSearchCV(estimator=SVC(),\n",
       "             param_grid={'C': [0.01, 0.1, 0.5, 1, 5],\n",
       "                         'kernel': ['linear', 'rbf', 'poly']})"
      ]
     },
     "execution_count": 144,
     "metadata": {},
     "output_type": "execute_result"
    }
   ],
   "source": [
    "gridsvc = GridSearchCV(SVC(), param_grid_svc)\n",
    "gridsvc.fit(X_train, y_train.values.ravel())"
   ]
  },
  {
   "cell_type": "code",
   "execution_count": 145,
   "metadata": {},
   "outputs": [
    {
     "data": {
      "text/plain": [
       "{'C': 0.1, 'kernel': 'poly'}"
      ]
     },
     "execution_count": 145,
     "metadata": {},
     "output_type": "execute_result"
    }
   ],
   "source": [
    "gridsvc.best_params_"
   ]
  },
  {
   "cell_type": "code",
   "execution_count": 146,
   "metadata": {},
   "outputs": [
    {
     "name": "stdout",
     "output_type": "stream",
     "text": [
      "Accuracy Score: 0.8709677419354839\n",
      "Classification Report: \n",
      "               precision    recall  f1-score   support\n",
      "\n",
      "           0       0.73      0.58      0.65        19\n",
      "           1       0.90      0.95      0.92        74\n",
      "\n",
      "    accuracy                           0.87        93\n",
      "   macro avg       0.82      0.76      0.78        93\n",
      "weighted avg       0.86      0.87      0.87        93\n",
      "\n"
     ]
    }
   ],
   "source": [
    "svc_predictions = gridsvc.predict(X_test)\n",
    "modelperformance(svc_predictions)"
   ]
  },
  {
   "cell_type": "markdown",
   "metadata": {},
   "source": [
    "## Oversampling"
   ]
  },
  {
   "cell_type": "markdown",
   "metadata": {},
   "source": [
    "### ROS"
   ]
  },
  {
   "cell_type": "code",
   "execution_count": 179,
   "metadata": {},
   "outputs": [],
   "source": [
    "from imblearn.over_sampling import RandomOverSampler\n",
    "ros = RandomOverSampler()\n",
    "X_resampled, y_resampled = ros.fit_resample(X_train, y_train)"
   ]
  },
  {
   "cell_type": "code",
   "execution_count": 180,
   "metadata": {},
   "outputs": [
    {
     "data": {
      "text/plain": [
       "<Axes: ylabel='count'>"
      ]
     },
     "execution_count": 180,
     "metadata": {},
     "output_type": "execute_result"
    },
    {
     "data": {
      "image/png": "[encoded data removed]",
      "text/plain": [
       "<Figure size 640x480 with 1 Axes>"
      ]
     },
     "metadata": {},
     "output_type": "display_data"
    }
   ],
   "source": [
    "y_resampled.value_counts().plot(kind=\"pie\")"
   ]
  },
  {
   "cell_type": "code",
   "execution_count": null,
   "metadata": {},
   "outputs": [
    {
     "name": "stderr",
     "output_type": "stream",
     "text": [
      "/Users/gavinbrumfield/opt/anaconda3/lib/python3.9/site-packages/sklearn/utils/validation.py:1111: DataConversionWarning: A column-vector y was passed when a 1d array was expected. Please change the shape of y to (n_samples, ), for example using ravel().\n",
      "  y = column_or_1d(y, warn=True)\n"
     ]
    },
    {
     "data": {
      "text/html": [
       "<style>#sk-container-id-16 {color: black;background-color: white;}#sk-container-id-16 pre{padding: 0;}#sk-container-id-16 div.sk-toggleable {background-color: white;}#sk-container-id-16 label.sk-toggleable__label {cursor: pointer;display: block;width: 100%;margin-bottom: 0;padding: 0.3em;box-sizing: border-box;text-align: center;}#sk-container-id-16 label.sk-toggleable__label-arrow:before {content: \"▸\";float: left;margin-right: 0.25em;color: #696969;}#sk-container-id-16 label.sk-toggleable__label-arrow:hover:before {color: black;}#sk-container-id-16 div.sk-estimator:hover label.sk-toggleable__label-arrow:before {color: black;}#sk-container-id-16 div.sk-toggleable__content {max-height: 0;max-width: 0;overflow: hidden;text-align: left;background-color: #f0f8ff;}#sk-container-id-16 div.sk-toggleable__content pre {margin: 0.2em;color: black;border-radius: 0.25em;background-color: #f0f8ff;}#sk-container-id-16 input.sk-toggleable__control:checked~div.sk-toggleable__content {max-height: 200px;max-width: 100%;overflow: auto;}#sk-container-id-16 input.sk-toggleable__control:checked~label.sk-toggleable__label-arrow:before {content: \"▾\";}#sk-container-id-16 div.sk-estimator input.sk-toggleable__control:checked~label.sk-toggleable__label {background-color: #d4ebff;}#sk-container-id-16 div.sk-label input.sk-toggleable__control:checked~label.sk-toggleable__label {background-color: #d4ebff;}#sk-container-id-16 input.sk-hidden--visually {border: 0;clip: rect(1px 1px 1px 1px);clip: rect(1px, 1px, 1px, 1px);height: 1px;margin: -1px;overflow: hidden;padding: 0;position: absolute;width: 1px;}#sk-container-id-16 div.sk-estimator {font-family: monospace;background-color: #f0f8ff;border: 1px dotted black;border-radius: 0.25em;box-sizing: border-box;margin-bottom: 0.5em;}#sk-container-id-16 div.sk-estimator:hover {background-color: #d4ebff;}#sk-container-id-16 div.sk-parallel-item::after {content: \"\";width: 100%;border-bottom: 1px solid gray;flex-grow: 1;}#sk-container-id-16 div.sk-label:hover label.sk-toggleable__label {background-color: #d4ebff;}#sk-container-id-16 div.sk-serial::before {content: \"\";position: absolute;border-left: 1px solid gray;box-sizing: border-box;top: 0;bottom: 0;left: 50%;z-index: 0;}#sk-container-id-16 div.sk-serial {display: flex;flex-direction: column;align-items: center;background-color: white;padding-right: 0.2em;padding-left: 0.2em;position: relative;}#sk-container-id-16 div.sk-item {position: relative;z-index: 1;}#sk-container-id-16 div.sk-parallel {display: flex;align-items: stretch;justify-content: center;background-color: white;position: relative;}#sk-container-id-16 div.sk-item::before, #sk-container-id-16 div.sk-parallel-item::before {content: \"\";position: absolute;border-left: 1px solid gray;box-sizing: border-box;top: 0;bottom: 0;left: 50%;z-index: -1;}#sk-container-id-16 div.sk-parallel-item {display: flex;flex-direction: column;z-index: 1;position: relative;background-color: white;}#sk-container-id-16 div.sk-parallel-item:first-child::after {align-self: flex-end;width: 50%;}#sk-container-id-16 div.sk-parallel-item:last-child::after {align-self: flex-start;width: 50%;}#sk-container-id-16 div.sk-parallel-item:only-child::after {width: 0;}#sk-container-id-16 div.sk-dashed-wrapped {border: 1px dashed gray;margin: 0 0.4em 0.5em 0.4em;box-sizing: border-box;padding-bottom: 0.4em;background-color: white;}#sk-container-id-16 div.sk-label label {font-family: monospace;font-weight: bold;display: inline-block;line-height: 1.2em;}#sk-container-id-16 div.sk-label-container {text-align: center;}#sk-container-id-16 div.sk-container {/* jupyter's `normalize.less` sets `[hidden] { display: none; }` but bootstrap.min.css set `[hidden] { display: none !important; }` so we also need the `!important` here to be able to override the default hidden behavior on the sphinx rendered scikit-learn.org. See: https://github.com/scikit-learn/scikit-learn/issues/21755 */display: inline-block !important;position: relative;}#sk-container-id-16 div.sk-text-repr-fallback {display: none;}</style><div id=\"sk-container-id-16\" class=\"sk-top-container\"><div class=\"sk-text-repr-fallback\"><pre>LogisticRegression()</pre><b>In a Jupyter environment, please rerun this cell to show the HTML representation or trust the notebook. <br />On GitHub, the HTML representation is unable to render, please try loading this page with nbviewer.org.</b></div><div class=\"sk-container\" hidden><div class=\"sk-item\"><div class=\"sk-estimator sk-toggleable\"><input class=\"sk-toggleable__control sk-hidden--visually\" id=\"sk-estimator-id-34\" type=\"checkbox\" checked><label for=\"sk-estimator-id-34\" class=\"sk-toggleable__label sk-toggleable__label-arrow\">LogisticRegression</label><div class=\"sk-toggleable__content\"><pre>LogisticRegression()</pre></div></div></div></div></div>"
      ],
      "text/plain": [
       "LogisticRegression()"
      ]
     },
     "execution_count": 181,
     "metadata": {},
     "output_type": "execute_result"
    }
   ],
   "source": [
    "# Over Sampled Logisitc\n",
    "log_model_os = LogisticRegression()\n",
    "log_model_os.fit(X_resampled, y_resampled)\n",
    "# Over Sampled Logistic Predictions and Performance\n",
    "log_ros_predictions = log_model_os.predict(X_test)\n",
    "# Oversampled KNN\n",
    "gridknos = GridSearchCV(KNeighborsClassifier(), param_grid)\n",
    "gridknos.fit(X_resampled, y_resampled.values.ravel())\n",
    "# Oversampled KNN Predictions and Performance\n",
    "kn_ros_predictions = gridknos.predict(X_test)\n",
    "# Oversampled SVC\n",
    "gridsvcos = GridSearchCV(SVC(), param_grid_svc)\n",
    "gridsvcos.fit(X_resampled, y_resampled.values.ravel())\n",
    "# Oversampled SVC Predictions and Performance\n",
    "svc_ros_predictions = gridsvcos.predict(X_test)"
   ]
  },
  {
   "cell_type": "markdown",
   "metadata": {},
   "source": [
    "### SMOTE"
   ]
  },
  {
   "cell_type": "code",
   "execution_count": 189,
   "metadata": {},
   "outputs": [],
   "source": [
    "from imblearn.over_sampling import SMOTE\n",
    "smote = SMOTE()\n",
    "X_resampled, y_resampled = smote.fit_resample(X_train, y_train)"
   ]
  },
  {
   "cell_type": "code",
   "execution_count": 190,
   "metadata": {},
   "outputs": [
    {
     "data": {
      "text/plain": [
       "<Axes: ylabel='count'>"
      ]
     },
     "execution_count": 190,
     "metadata": {},
     "output_type": "execute_result"
    },
    {
     "data": {
      "image/png": "[encoded data removed]",
      "text/plain": [
       "<Figure size 640x480 with 1 Axes>"
      ]
     },
     "metadata": {},
     "output_type": "display_data"
    }
   ],
   "source": [
    "y_resampled.value_counts().plot(kind=\"pie\")"
   ]
  },
  {
   "cell_type": "code",
   "execution_count": null,
   "metadata": {},
   "outputs": [
    {
     "name": "stderr",
     "output_type": "stream",
     "text": [
      "/Users/gavinbrumfield/opt/anaconda3/lib/python3.9/site-packages/sklearn/utils/validation.py:1111: DataConversionWarning: A column-vector y was passed when a 1d array was expected. Please change the shape of y to (n_samples, ), for example using ravel().\n",
      "  y = column_or_1d(y, warn=True)\n"
     ]
    },
    {
     "data": {
      "text/html": [
       "<style>#sk-container-id-19 {color: black;background-color: white;}#sk-container-id-19 pre{padding: 0;}#sk-container-id-19 div.sk-toggleable {background-color: white;}#sk-container-id-19 label.sk-toggleable__label {cursor: pointer;display: block;width: 100%;margin-bottom: 0;padding: 0.3em;box-sizing: border-box;text-align: center;}#sk-container-id-19 label.sk-toggleable__label-arrow:before {content: \"▸\";float: left;margin-right: 0.25em;color: #696969;}#sk-container-id-19 label.sk-toggleable__label-arrow:hover:before {color: black;}#sk-container-id-19 div.sk-estimator:hover label.sk-toggleable__label-arrow:before {color: black;}#sk-container-id-19 div.sk-toggleable__content {max-height: 0;max-width: 0;overflow: hidden;text-align: left;background-color: #f0f8ff;}#sk-container-id-19 div.sk-toggleable__content pre {margin: 0.2em;color: black;border-radius: 0.25em;background-color: #f0f8ff;}#sk-container-id-19 input.sk-toggleable__control:checked~div.sk-toggleable__content {max-height: 200px;max-width: 100%;overflow: auto;}#sk-container-id-19 input.sk-toggleable__control:checked~label.sk-toggleable__label-arrow:before {content: \"▾\";}#sk-container-id-19 div.sk-estimator input.sk-toggleable__control:checked~label.sk-toggleable__label {background-color: #d4ebff;}#sk-container-id-19 div.sk-label input.sk-toggleable__control:checked~label.sk-toggleable__label {background-color: #d4ebff;}#sk-container-id-19 input.sk-hidden--visually {border: 0;clip: rect(1px 1px 1px 1px);clip: rect(1px, 1px, 1px, 1px);height: 1px;margin: -1px;overflow: hidden;padding: 0;position: absolute;width: 1px;}#sk-container-id-19 div.sk-estimator {font-family: monospace;background-color: #f0f8ff;border: 1px dotted black;border-radius: 0.25em;box-sizing: border-box;margin-bottom: 0.5em;}#sk-container-id-19 div.sk-estimator:hover {background-color: #d4ebff;}#sk-container-id-19 div.sk-parallel-item::after {content: \"\";width: 100%;border-bottom: 1px solid gray;flex-grow: 1;}#sk-container-id-19 div.sk-label:hover label.sk-toggleable__label {background-color: #d4ebff;}#sk-container-id-19 div.sk-serial::before {content: \"\";position: absolute;border-left: 1px solid gray;box-sizing: border-box;top: 0;bottom: 0;left: 50%;z-index: 0;}#sk-container-id-19 div.sk-serial {display: flex;flex-direction: column;align-items: center;background-color: white;padding-right: 0.2em;padding-left: 0.2em;position: relative;}#sk-container-id-19 div.sk-item {position: relative;z-index: 1;}#sk-container-id-19 div.sk-parallel {display: flex;align-items: stretch;justify-content: center;background-color: white;position: relative;}#sk-container-id-19 div.sk-item::before, #sk-container-id-19 div.sk-parallel-item::before {content: \"\";position: absolute;border-left: 1px solid gray;box-sizing: border-box;top: 0;bottom: 0;left: 50%;z-index: -1;}#sk-container-id-19 div.sk-parallel-item {display: flex;flex-direction: column;z-index: 1;position: relative;background-color: white;}#sk-container-id-19 div.sk-parallel-item:first-child::after {align-self: flex-end;width: 50%;}#sk-container-id-19 div.sk-parallel-item:last-child::after {align-self: flex-start;width: 50%;}#sk-container-id-19 div.sk-parallel-item:only-child::after {width: 0;}#sk-container-id-19 div.sk-dashed-wrapped {border: 1px dashed gray;margin: 0 0.4em 0.5em 0.4em;box-sizing: border-box;padding-bottom: 0.4em;background-color: white;}#sk-container-id-19 div.sk-label label {font-family: monospace;font-weight: bold;display: inline-block;line-height: 1.2em;}#sk-container-id-19 div.sk-label-container {text-align: center;}#sk-container-id-19 div.sk-container {/* jupyter's `normalize.less` sets `[hidden] { display: none; }` but bootstrap.min.css set `[hidden] { display: none !important; }` so we also need the `!important` here to be able to override the default hidden behavior on the sphinx rendered scikit-learn.org. See: https://github.com/scikit-learn/scikit-learn/issues/21755 */display: inline-block !important;position: relative;}#sk-container-id-19 div.sk-text-repr-fallback {display: none;}</style><div id=\"sk-container-id-19\" class=\"sk-top-container\"><div class=\"sk-text-repr-fallback\"><pre>LogisticRegression()</pre><b>In a Jupyter environment, please rerun this cell to show the HTML representation or trust the notebook. <br />On GitHub, the HTML representation is unable to render, please try loading this page with nbviewer.org.</b></div><div class=\"sk-container\" hidden><div class=\"sk-item\"><div class=\"sk-estimator sk-toggleable\"><input class=\"sk-toggleable__control sk-hidden--visually\" id=\"sk-estimator-id-41\" type=\"checkbox\" checked><label for=\"sk-estimator-id-41\" class=\"sk-toggleable__label sk-toggleable__label-arrow\">LogisticRegression</label><div class=\"sk-toggleable__content\"><pre>LogisticRegression()</pre></div></div></div></div></div>"
      ],
      "text/plain": [
       "LogisticRegression()"
      ]
     },
     "execution_count": 191,
     "metadata": {},
     "output_type": "execute_result"
    }
   ],
   "source": [
    "# Over Sampled Logisitc\n",
    "log_model_os = LogisticRegression()\n",
    "log_model_os.fit(X_resampled, y_resampled)\n",
    "# Over Sampled Logistic Predictions and Performance\n",
    "log_smote_predictions = log_model_os.predict(X_test)\n",
    "# Oversampled KNN\n",
    "gridknos = GridSearchCV(KNeighborsClassifier(), param_grid)\n",
    "gridknos.fit(X_resampled, y_resampled.values.ravel())\n",
    "# Oversampled KNN Predictions and Performance\n",
    "kn_smote_predictions = gridknos.predict(X_test)\n",
    "# Oversampled SVC\n",
    "gridsvcos = GridSearchCV(SVC(), param_grid_svc)\n",
    "gridsvcos.fit(X_resampled, y_resampled.values.ravel())\n",
    "# Oversampled SVC Predictions and Performance\n",
    "svc_smote_predictions = gridsvcos.predict(X_test)"
   ]
  },
  {
   "cell_type": "markdown",
   "metadata": {},
   "source": [
    "### ADASYN"
   ]
  },
  {
   "cell_type": "code",
   "execution_count": 199,
   "metadata": {},
   "outputs": [],
   "source": [
    "from imblearn.over_sampling import ADASYN\n",
    "adasyn = ADASYN()\n",
    "X_resampled, y_resampled = adasyn.fit_resample(X_train, y_train)"
   ]
  },
  {
   "cell_type": "code",
   "execution_count": null,
   "metadata": {},
   "outputs": [
    {
     "data": {
      "text/plain": [
       "<Axes: ylabel='count'>"
      ]
     },
     "execution_count": 200,
     "metadata": {},
     "output_type": "execute_result"
    },
    {
     "data": {
      "image/png": "[encoded data removed]",
      "text/plain": [
       "<Figure size 640x480 with 1 Axes>"
      ]
     },
     "metadata": {},
     "output_type": "display_data"
    }
   ],
   "source": [
    "y_resampled.value_counts().plot(kind=\"pie\")"
   ]
  },
  {
   "cell_type": "code",
   "execution_count": 203,
   "metadata": {},
   "outputs": [
    {
     "name": "stderr",
     "output_type": "stream",
     "text": [
      "/Users/gavinbrumfield/opt/anaconda3/lib/python3.9/site-packages/sklearn/utils/validation.py:1111: DataConversionWarning: A column-vector y was passed when a 1d array was expected. Please change the shape of y to (n_samples, ), for example using ravel().\n",
      "  y = column_or_1d(y, warn=True)\n"
     ]
    }
   ],
   "source": [
    "# Over Sampled Logisitc\n",
    "log_model_os = LogisticRegression()\n",
    "log_model_os.fit(X_resampled, y_resampled)\n",
    "# Over Sampled Logistic Predictions and Performance\n",
    "log_adasyn_predictions = log_model_os.predict(X_test)\n",
    "# Oversampled KNN\n",
    "gridknos = GridSearchCV(KNeighborsClassifier(), param_grid)\n",
    "gridknos.fit(X_resampled, y_resampled.values.ravel())\n",
    "# Oversampled KNN Predictions and Performance\n",
    "kn_adasyn_predictions = gridknos.predict(X_test)\n",
    "# Oversampled SVC\n",
    "gridsvcos = GridSearchCV(SVC(), param_grid_svc)\n",
    "gridsvcos.fit(X_resampled, y_resampled.values.ravel())\n",
    "# Oversampled SVC Predictions and Performance\n",
    "svc_adasyn_predictions = gridsvcos.predict(X_test)"
   ]
  },
  {
   "cell_type": "code",
   "execution_count": 206,
   "metadata": {},
   "outputs": [
    {
     "name": "stdout",
     "output_type": "stream",
     "text": [
      "\n",
      "Model: Logistic Regression, Sampling: Original\n",
      "Classification Report:\n",
      "              precision    recall  f1-score   support\n",
      "\n",
      "           0       0.73      0.58      0.65        19\n",
      "           1       0.90      0.95      0.92        74\n",
      "\n",
      "    accuracy                           0.87        93\n",
      "   macro avg       0.82      0.76      0.78        93\n",
      "weighted avg       0.86      0.87      0.87        93\n",
      "\n",
      "\n",
      "Model: Logistic Regression, Sampling: ROS\n",
      "Classification Report:\n",
      "              precision    recall  f1-score   support\n",
      "\n",
      "           0       0.55      0.63      0.59        19\n",
      "           1       0.90      0.86      0.88        74\n",
      "\n",
      "    accuracy                           0.82        93\n",
      "   macro avg       0.72      0.75      0.73        93\n",
      "weighted avg       0.83      0.82      0.82        93\n",
      "\n",
      "\n",
      "Model: Logistic Regression, Sampling: SMOTE\n",
      "Classification Report:\n",
      "              precision    recall  f1-score   support\n",
      "\n",
      "           0       0.52      0.58      0.55        19\n",
      "           1       0.89      0.86      0.88        74\n",
      "\n",
      "    accuracy                           0.81        93\n",
      "   macro avg       0.71      0.72      0.71        93\n",
      "weighted avg       0.81      0.81      0.81        93\n",
      "\n",
      "\n",
      "Model: Logistic Regression, Sampling: ADASYN\n",
      "Classification Report:\n",
      "              precision    recall  f1-score   support\n",
      "\n",
      "           0       0.38      0.79      0.52        19\n",
      "           1       0.93      0.68      0.78        74\n",
      "\n",
      "    accuracy                           0.70        93\n",
      "   macro avg       0.66      0.73      0.65        93\n",
      "weighted avg       0.82      0.70      0.73        93\n",
      "\n",
      "\n",
      "Model: KNN, Sampling: Original\n",
      "Classification Report:\n",
      "              precision    recall  f1-score   support\n",
      "\n",
      "           0       0.65      0.58      0.61        19\n",
      "           1       0.89      0.92      0.91        74\n",
      "\n",
      "    accuracy                           0.85        93\n",
      "   macro avg       0.77      0.75      0.76        93\n",
      "weighted avg       0.84      0.85      0.85        93\n",
      "\n",
      "\n",
      "Model: KNN, Sampling: ROS\n",
      "Classification Report:\n",
      "              precision    recall  f1-score   support\n",
      "\n",
      "           0       0.50      0.63      0.56        19\n",
      "           1       0.90      0.84      0.87        74\n",
      "\n",
      "    accuracy                           0.80        93\n",
      "   macro avg       0.70      0.73      0.71        93\n",
      "weighted avg       0.82      0.80      0.80        93\n",
      "\n",
      "\n",
      "Model: KNN, Sampling: SMOTE\n",
      "Classification Report:\n",
      "              precision    recall  f1-score   support\n",
      "\n",
      "           0       0.47      0.74      0.57        19\n",
      "           1       0.92      0.78      0.85        74\n",
      "\n",
      "    accuracy                           0.77        93\n",
      "   macro avg       0.69      0.76      0.71        93\n",
      "weighted avg       0.83      0.77      0.79        93\n",
      "\n",
      "\n",
      "Model: KNN, Sampling: ADASYN\n",
      "Classification Report:\n",
      "              precision    recall  f1-score   support\n",
      "\n",
      "           0       0.43      0.79      0.56        19\n",
      "           1       0.93      0.73      0.82        74\n",
      "\n",
      "    accuracy                           0.74        93\n",
      "   macro avg       0.68      0.76      0.69        93\n",
      "weighted avg       0.83      0.74      0.76        93\n",
      "\n",
      "\n",
      "Model: SVC, Sampling: Original\n",
      "Classification Report:\n",
      "              precision    recall  f1-score   support\n",
      "\n",
      "           0       0.73      0.58      0.65        19\n",
      "           1       0.90      0.95      0.92        74\n",
      "\n",
      "    accuracy                           0.87        93\n",
      "   macro avg       0.82      0.76      0.78        93\n",
      "weighted avg       0.86      0.87      0.87        93\n",
      "\n",
      "\n",
      "Model: SVC, Sampling: ROS\n",
      "Classification Report:\n",
      "              precision    recall  f1-score   support\n",
      "\n",
      "           0       0.39      0.68      0.50        19\n",
      "           1       0.90      0.73      0.81        74\n",
      "\n",
      "    accuracy                           0.72        93\n",
      "   macro avg       0.65      0.71      0.65        93\n",
      "weighted avg       0.80      0.72      0.74        93\n",
      "\n",
      "\n",
      "Model: SVC, Sampling: SMOTE\n",
      "Classification Report:\n",
      "              precision    recall  f1-score   support\n",
      "\n",
      "           0       0.48      0.68      0.57        19\n",
      "           1       0.91      0.81      0.86        74\n",
      "\n",
      "    accuracy                           0.78        93\n",
      "   macro avg       0.70      0.75      0.71        93\n",
      "weighted avg       0.82      0.78      0.80        93\n",
      "\n",
      "\n",
      "Model: SVC, Sampling: ADASYN\n",
      "Classification Report:\n",
      "              precision    recall  f1-score   support\n",
      "\n",
      "           0       0.38      0.68      0.49        19\n",
      "           1       0.90      0.72      0.80        74\n",
      "\n",
      "    accuracy                           0.71        93\n",
      "   macro avg       0.64      0.70      0.64        93\n",
      "weighted avg       0.79      0.71      0.73        93\n",
      "\n",
      "\n",
      "=== Best Model Results ===\n",
      "Model: KNN\n",
      "Sampling Method: SMOTE\n",
      "\n",
      "Per-class metrics:\n",
      "\n",
      "Class 0:\n",
      "Precision: 0.4667\n",
      "Recall: 0.7368\n",
      "\n",
      "Class 1:\n",
      "Precision: 0.9206\n",
      "Recall: 0.7838\n",
      "\n",
      "Overall Accuracy: 0.7742\n"
     ]
    }
   ],
   "source": [
    "from sklearn.metrics import precision_score, recall_score, accuracy_score, classification_report\n",
    "\n",
    "def compare_models():\n",
    "    models = {\n",
    "        \"Logistic Regression\": {\n",
    "            \"Original\": log_predictions,\n",
    "            \"ROS\": log_ros_predictions,\n",
    "            \"SMOTE\": log_smote_predictions,\n",
    "            \"ADASYN\": log_adasyn_predictions\n",
    "        },\n",
    "        \"KNN\": {\n",
    "            \"Original\": kn_predictions,\n",
    "            \"ROS\": kn_ros_predictions,\n",
    "            \"SMOTE\": kn_smote_predictions,\n",
    "            \"ADASYN\": kn_adasyn_predictions\n",
    "        },\n",
    "        \"SVC\": {\n",
    "            \"Original\": svc_predictions,\n",
    "            \"ROS\": svc_ros_predictions,\n",
    "            \"SMOTE\": svc_smote_predictions,\n",
    "            \"ADASYN\": svc_adasyn_predictions\n",
    "        }\n",
    "    }\n",
    "\n",
    "    best_model = None\n",
    "    best_sampling = None\n",
    "    best_scores = {\n",
    "        'class_metrics': {},\n",
    "        'overall': {'accuracy': 0}\n",
    "    }\n",
    "\n",
    "    for model_name, sampling_methods in models.items():\n",
    "        for sampling_method, predictions in sampling_methods.items():\n",
    "            # Get per-class precision and recall\n",
    "            precision = precision_score(y_test, predictions, average=None)\n",
    "            recall = recall_score(y_test, predictions, average=None)\n",
    "            accuracy = accuracy_score(y_test, predictions)\n",
    "            \n",
    "            # Print detailed results\n",
    "            print(f\"\\nModel: {model_name}, Sampling: {sampling_method}\")\n",
    "            print(\"Classification Report:\")\n",
    "            print(classification_report(y_test, predictions))\n",
    "            \n",
    "            # Check if this is the best model so far\n",
    "            # We'll use the minimum recall across all classes as our primary metric\n",
    "            min_recall = min(recall)\n",
    "            \n",
    "            if best_model is None or min_recall > min(best_scores['class_metrics'].get('recall', [0])):\n",
    "                best_scores['class_metrics'] = {\n",
    "                    'precision': precision,\n",
    "                    'recall': recall\n",
    "                }\n",
    "                best_scores['overall']['accuracy'] = accuracy\n",
    "                best_model = model_name\n",
    "                best_sampling = sampling_method\n",
    "\n",
    "    print(\"\\n=== Best Model Results ===\")\n",
    "    print(f\"Model: {best_model}\")\n",
    "    print(f\"Sampling Method: {best_sampling}\")\n",
    "    print(\"\\nPer-class metrics:\")\n",
    "    for class_idx in range(len(best_scores['class_metrics']['precision'])):\n",
    "        print(f\"\\nClass {class_idx}:\")\n",
    "        print(f\"Precision: {best_scores['class_metrics']['precision'][class_idx]:.4f}\")\n",
    "        print(f\"Recall: {best_scores['class_metrics']['recall'][class_idx]:.4f}\")\n",
    "    print(f\"\\nOverall Accuracy: {best_scores['overall']['accuracy']:.4f}\")\n",
    "\n",
    "compare_models()"
   ]
  },
  {
   "cell_type": "code",
   "execution_count": 207,
   "metadata": {},
   "outputs": [
    {
     "data": {
      "text/plain": [
       "['model.pkl']"
      ]
     },
     "execution_count": 207,
     "metadata": {},
     "output_type": "execute_result"
    }
   ],
   "source": [
    "X_resampled, y_resampled = smote.fit_resample(X_train, y_train)\n",
    "gridknos = GridSearchCV(KNeighborsClassifier(), param_grid)\n",
    "gridknos.fit(X_resampled, y_resampled.values.ravel())\n",
    "joblib.dump(gridknos, \"model.pkl\")"
   ]
  }
 ],
 "metadata": {
  "kernelspec": {
   "display_name": "base",
   "language": "python",
   "name": "python3"
  },
  "language_info": {
   "codemirror_mode": {
    "name": "ipython",
    "version": 3
   },
   "file_extension": ".py",
   "mimetype": "text/x-python",
   "name": "python",
   "nbconvert_exporter": "python",
   "pygments_lexer": "ipython3",
   "version": "3.9.7"
  }
 },
 "nbformat": 4,
 "nbformat_minor": 2
}
